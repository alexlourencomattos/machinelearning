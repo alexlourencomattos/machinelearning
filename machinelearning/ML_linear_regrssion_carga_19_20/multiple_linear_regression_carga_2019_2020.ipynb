{
  "nbformat": 4,
  "nbformat_minor": 0,
  "metadata": {
    "kernelspec": {
      "display_name": "Python 3",
      "language": "python",
      "name": "python3"
    },
    "language_info": {
      "codemirror_mode": {
        "name": "ipython",
        "version": 3
      },
      "file_extension": ".py",
      "mimetype": "text/x-python",
      "name": "python",
      "nbconvert_exporter": "python",
      "pygments_lexer": "ipython3",
      "version": "3.7.3"
    },
    "colab": {
      "name": "multiple_linear_regression_carga_2019_2020.ipynb",
      "provenance": []
    }
  },
  "cells": [
    {
      "cell_type": "code",
      "metadata": {
        "id": "tZGnNU5Xq4Su"
      },
      "source": [
        "import numpy as np\n",
        "import matplotlib.pyplot as plt\n",
        "import pandas as pd\n",
        "import sklearn\n",
        "from sklearn.metrics import mean_squared_log_error"
      ],
      "execution_count": 1,
      "outputs": []
    },
    {
      "cell_type": "markdown",
      "metadata": {
        "id": "pSpBI5Ceq4TB"
      },
      "source": [
        "Transformando os dados em arrays: "
      ]
    },
    {
      "cell_type": "code",
      "metadata": {
        "id": "fAZLwIKIq4TD"
      },
      "source": [
        "dataset = pd.read_csv('Carga_ons_2019_fev.csv', sep= ';')\n",
        "X = dataset.iloc[:, :-1].values\n",
        "y = dataset.iloc[:, -1].values"
      ],
      "execution_count": 2,
      "outputs": []
    },
    {
      "cell_type": "markdown",
      "metadata": {
        "id": "ULRS8RwZq4TG"
      },
      "source": [
        "Visualizando os dados do dataframe:"
      ]
    },
    {
      "cell_type": "code",
      "metadata": {
        "colab": {
          "base_uri": "https://localhost:8080/",
          "height": 195
        },
        "id": "NUhEzBYkq4TH",
        "outputId": "c935f31b-e032-49ea-f942-421ba9a4498f"
      },
      "source": [
        "dataset.head()"
      ],
      "execution_count": 3,
      "outputs": [
        {
          "output_type": "execute_result",
          "data": {
            "text/html": [
              "<div>\n",
              "<style scoped>\n",
              "    .dataframe tbody tr th:only-of-type {\n",
              "        vertical-align: middle;\n",
              "    }\n",
              "\n",
              "    .dataframe tbody tr th {\n",
              "        vertical-align: top;\n",
              "    }\n",
              "\n",
              "    .dataframe thead th {\n",
              "        text-align: right;\n",
              "    }\n",
              "</style>\n",
              "<table border=\"1\" class=\"dataframe\">\n",
              "  <thead>\n",
              "    <tr style=\"text-align: right;\">\n",
              "      <th></th>\n",
              "      <th>Semana</th>\n",
              "      <th>Carga</th>\n",
              "    </tr>\n",
              "  </thead>\n",
              "  <tbody>\n",
              "    <tr>\n",
              "      <th>0</th>\n",
              "      <td>1</td>\n",
              "      <td>43231</td>\n",
              "    </tr>\n",
              "    <tr>\n",
              "      <th>1</th>\n",
              "      <td>2</td>\n",
              "      <td>41038</td>\n",
              "    </tr>\n",
              "    <tr>\n",
              "      <th>2</th>\n",
              "      <td>3</td>\n",
              "      <td>40694</td>\n",
              "    </tr>\n",
              "    <tr>\n",
              "      <th>3</th>\n",
              "      <td>4</td>\n",
              "      <td>39387</td>\n",
              "    </tr>\n",
              "    <tr>\n",
              "      <th>4</th>\n",
              "      <td>5</td>\n",
              "      <td>40650</td>\n",
              "    </tr>\n",
              "  </tbody>\n",
              "</table>\n",
              "</div>"
            ],
            "text/plain": [
              "   Semana  Carga\n",
              "0       1  43231\n",
              "1       2  41038\n",
              "2       3  40694\n",
              "3       4  39387\n",
              "4       5  40650"
            ]
          },
          "metadata": {
            "tags": []
          },
          "execution_count": 3
        }
      ]
    },
    {
      "cell_type": "markdown",
      "metadata": {
        "id": "ouzwTGZYq4TP"
      },
      "source": [
        "Visualizando a informação do dataframe: "
      ]
    },
    {
      "cell_type": "code",
      "metadata": {
        "colab": {
          "base_uri": "https://localhost:8080/"
        },
        "id": "6EBpU5lQq4TR",
        "outputId": "59b719bb-dd02-496d-b81c-24fb1ac55873"
      },
      "source": [
        "dataset.info()"
      ],
      "execution_count": 4,
      "outputs": [
        {
          "output_type": "stream",
          "text": [
            "<class 'pandas.core.frame.DataFrame'>\n",
            "RangeIndex: 73 entries, 0 to 72\n",
            "Data columns (total 2 columns):\n",
            " #   Column  Non-Null Count  Dtype\n",
            "---  ------  --------------  -----\n",
            " 0   Semana  73 non-null     int64\n",
            " 1   Carga   73 non-null     int64\n",
            "dtypes: int64(2)\n",
            "memory usage: 1.3 KB\n"
          ],
          "name": "stdout"
        }
      ]
    },
    {
      "cell_type": "markdown",
      "metadata": {
        "id": "DKkx4TJMq4TT"
      },
      "source": [
        "Criando a função de erro:"
      ]
    },
    {
      "cell_type": "code",
      "metadata": {
        "id": "pPEzq3Hwq4TV"
      },
      "source": [
        "def rmsle(ytrue,ypred):\n",
        "    return np.sqrt(mean_squared_log_error(ytrue, ypred))"
      ],
      "execution_count": 5,
      "outputs": []
    },
    {
      "cell_type": "code",
      "metadata": {
        "id": "eLVe6g0Rq4TW"
      },
      "source": [
        "from sklearn.model_selection import train_test_split\n",
        "X_train, X_test, y_train, y_test = train_test_split(X, y, test_size = 0.2, random_state = 0)"
      ],
      "execution_count": 6,
      "outputs": []
    },
    {
      "cell_type": "code",
      "metadata": {
        "colab": {
          "base_uri": "https://localhost:8080/"
        },
        "id": "pqQ-Gi0Oq4TX",
        "outputId": "f6d727d2-cca3-4f7e-c0cb-6d6dda3ea15c"
      },
      "source": [
        "from sklearn.linear_model import LinearRegression\n",
        "regressor = LinearRegression()\n",
        "regressor.fit(X_train, y_train)\n",
        "\n"
      ],
      "execution_count": 7,
      "outputs": [
        {
          "output_type": "execute_result",
          "data": {
            "text/plain": [
              "LinearRegression(copy_X=True, fit_intercept=True, n_jobs=None, normalize=False)"
            ]
          },
          "metadata": {
            "tags": []
          },
          "execution_count": 7
        }
      ]
    },
    {
      "cell_type": "code",
      "metadata": {
        "colab": {
          "base_uri": "https://localhost:8080/"
        },
        "id": "QfTB7U62q4TY",
        "outputId": "0017b1d2-742b-4f34-b186-746af05808bc"
      },
      "source": [
        "y_pred = regressor.predict(X_test)\n",
        "np.set_printoptions(precision=2)\n",
        "print(np.concatenate((y_pred.reshape(len(y_pred),1), y_test.reshape(len(y_test),1)),1))"
      ],
      "execution_count": 8,
      "outputs": [
        {
          "output_type": "stream",
          "text": [
            "[[35238.37 39052.  ]\n",
            " [34975.24 40432.  ]\n",
            " [37014.54 35246.  ]\n",
            " [35633.07 36530.  ]\n",
            " [36619.83 34457.  ]\n",
            " [36751.4  34161.  ]\n",
            " [33856.91 32270.  ]\n",
            " [35172.59 41264.  ]\n",
            " [36225.13 35982.  ]\n",
            " [38001.29 39572.  ]\n",
            " [35698.86 35703.  ]\n",
            " [34843.67 41980.  ]\n",
            " [35830.43 38936.  ]\n",
            " [34514.75 34934.  ]\n",
            " [36290.91 39196.  ]]\n"
          ],
          "name": "stdout"
        }
      ]
    },
    {
      "cell_type": "code",
      "metadata": {
        "colab": {
          "base_uri": "https://localhost:8080/"
        },
        "id": "KL5rlIw2BkHD",
        "outputId": "a5b0a0dc-f985-4e6e-97c1-1fe46f3176bf"
      },
      "source": [
        "z = np.concatenate((y_pred.reshape(len(y_pred),1), y_test.reshape(len(y_test),1)),1)\r\n",
        "z"
      ],
      "execution_count": 34,
      "outputs": [
        {
          "output_type": "execute_result",
          "data": {
            "text/plain": [
              "array([[35238.37, 39052.  ],\n",
              "       [34975.24, 40432.  ],\n",
              "       [37014.54, 35246.  ],\n",
              "       [35633.07, 36530.  ],\n",
              "       [36619.83, 34457.  ],\n",
              "       [36751.4 , 34161.  ],\n",
              "       [33856.91, 32270.  ],\n",
              "       [35172.59, 41264.  ],\n",
              "       [36225.13, 35982.  ],\n",
              "       [38001.29, 39572.  ],\n",
              "       [35698.86, 35703.  ],\n",
              "       [34843.67, 41980.  ],\n",
              "       [35830.43, 38936.  ],\n",
              "       [34514.75, 34934.  ],\n",
              "       [36290.91, 39196.  ]])"
            ]
          },
          "metadata": {
            "tags": []
          },
          "execution_count": 34
        }
      ]
    },
    {
      "cell_type": "code",
      "metadata": {
        "colab": {
          "base_uri": "https://localhost:8080/"
        },
        "id": "EQmAWmcSq4TZ",
        "outputId": "4aa851ed-438f-43a7-d74f-9ed29f246fa8"
      },
      "source": [
        "X_test"
      ],
      "execution_count": 9,
      "outputs": [
        {
          "output_type": "execute_result",
          "data": {
            "text/plain": [
              "array([[50],\n",
              "       [54],\n",
              "       [23],\n",
              "       [44],\n",
              "       [29],\n",
              "       [27],\n",
              "       [71],\n",
              "       [51],\n",
              "       [35],\n",
              "       [ 8],\n",
              "       [43],\n",
              "       [56],\n",
              "       [41],\n",
              "       [61],\n",
              "       [34]])"
            ]
          },
          "metadata": {
            "tags": []
          },
          "execution_count": 9
        }
      ]
    },
    {
      "cell_type": "code",
      "metadata": {
        "scrolled": true,
        "colab": {
          "base_uri": "https://localhost:8080/"
        },
        "id": "Xusk56kCq4TZ",
        "outputId": "3fd10431-7be7-49b1-ea1c-384b27b87f9b"
      },
      "source": [
        "y_pred.reshape(len(y_pred),1)"
      ],
      "execution_count": 10,
      "outputs": [
        {
          "output_type": "execute_result",
          "data": {
            "text/plain": [
              "array([[35238.37],\n",
              "       [34975.24],\n",
              "       [37014.54],\n",
              "       [35633.07],\n",
              "       [36619.83],\n",
              "       [36751.4 ],\n",
              "       [33856.91],\n",
              "       [35172.59],\n",
              "       [36225.13],\n",
              "       [38001.29],\n",
              "       [35698.86],\n",
              "       [34843.67],\n",
              "       [35830.43],\n",
              "       [34514.75],\n",
              "       [36290.91]])"
            ]
          },
          "metadata": {
            "tags": []
          },
          "execution_count": 10
        }
      ]
    },
    {
      "cell_type": "code",
      "metadata": {
        "colab": {
          "base_uri": "https://localhost:8080/"
        },
        "id": "5wp-dUCvBRLc",
        "outputId": "cdd851aa-a9e5-41b4-d2e0-a56ead1d35ee"
      },
      "source": [
        "dataset[\"Carga\"].values"
      ],
      "execution_count": 33,
      "outputs": [
        {
          "output_type": "execute_result",
          "data": {
            "text/plain": [
              "array([43231, 41038, 40694, 39387, 40650, 37688, 40928, 39572, 38564,\n",
              "       38862, 38263, 36757, 37354, 36607, 36955, 36085, 34595, 35221,\n",
              "       34463, 34295, 34007, 34751, 35246, 31881, 33234, 33632, 34161,\n",
              "       33458, 34457, 34205, 34070, 35488, 37418, 39196, 35982, 36047,\n",
              "       36642, 38467, 36970, 39361, 38936, 36999, 35703, 36530, 36855,\n",
              "       37189, 38757, 35028, 36089, 39052, 41264, 38475, 40283, 40432,\n",
              "       38842, 41980, 36906, 37249, 39453, 41009, 34934, 35083, 32508,\n",
              "       31409, 30798, 31695, 31353, 31343, 30582, 31385, 32270, 32934,\n",
              "       34671])"
            ]
          },
          "metadata": {
            "tags": []
          },
          "execution_count": 33
        }
      ]
    },
    {
      "cell_type": "code",
      "metadata": {
        "id": "nC7hXiqKwA16"
      },
      "source": [
        "y = y_pred.reshape(len(y_pred),1)"
      ],
      "execution_count": 26,
      "outputs": []
    },
    {
      "cell_type": "markdown",
      "metadata": {
        "id": "1SmS2125q4Tb"
      },
      "source": [
        "Calculando o erro:"
      ]
    },
    {
      "cell_type": "code",
      "metadata": {
        "colab": {
          "base_uri": "https://localhost:8080/"
        },
        "id": "z7omJN32q4Tc",
        "outputId": "77a861f6-978c-4fd3-9e22-571a5d484d69"
      },
      "source": [
        "p = y_pred\n",
        "error = rmsle(y_test, p)\n",
        "print('Mean Error = %.5f' % np.mean(error))\n"
      ],
      "execution_count": 12,
      "outputs": [
        {
          "output_type": "stream",
          "text": [
            "Mean Error = 0.08975\n"
          ],
          "name": "stdout"
        }
      ]
    },
    {
      "cell_type": "code",
      "metadata": {
        "colab": {
          "base_uri": "https://localhost:8080/",
          "height": 279
        },
        "id": "NS8-PzcYq4Td",
        "outputId": "3617dcd7-10cc-435a-b0df-0b991dfca27e"
      },
      "source": [
        "\r\n",
        "plt.plot(y_pred, color = 'blue', label = 'Previsão')\r\n",
        "plt.plot(y_test, color = 'red',label = 'Carga' )\r\n",
        "\r\n",
        "plt.xlabel('Tempo')\r\n",
        "plt.ylabel('Carga')\r\n",
        "plt.legend()\r\n",
        "plt.show()"
      ],
      "execution_count": 36,
      "outputs": [
        {
          "output_type": "display_data",
          "data": {
            "image/png": "[encoded data removed]",
            "text/plain": [
              "<Figure size 432x288 with 1 Axes>"
            ]
          },
          "metadata": {
            "tags": [],
            "needs_background": "light"
          }
        }
      ]
    }
  ]
}