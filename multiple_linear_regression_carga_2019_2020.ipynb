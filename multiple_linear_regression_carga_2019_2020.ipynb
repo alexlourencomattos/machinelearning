{
  "nbformat": 4,
  "nbformat_minor": 0,
  "metadata": {
    "kernelspec": {
      "display_name": "Python 3",
      "language": "python",
      "name": "python3"
    },
    "language_info": {
      "codemirror_mode": {
        "name": "ipython",
        "version": 3
      },
      "file_extension": ".py",
      "mimetype": "text/x-python",
      "name": "python",
      "nbconvert_exporter": "python",
      "pygments_lexer": "ipython3",
      "version": "3.7.3"
    },
    "colab": {
      "name": "multiple_linear_regression_carga_2019_2020.ipynb",
      "provenance": []
    }
  },
  "cells": [
    {
      "cell_type": "code",
      "metadata": {
        "id": "tZGnNU5Xq4Su"
      },
      "source": [
        "import numpy as np\n",
        "import matplotlib.pyplot as plt\n",
        "import pandas as pd\n",
        "import sklearn\n",
        "from sklearn.metrics import mean_squared_log_error"
      ],
      "execution_count": 1,
      "outputs": []
    },
    {
      "cell_type": "markdown",
      "metadata": {
        "id": "pSpBI5Ceq4TB"
      },
      "source": [
        "Transformando os dados em arrays: "
      ]
    },
    {
      "cell_type": "code",
      "metadata": {
        "id": "fAZLwIKIq4TD"
      },
      "source": [
        "dataset = pd.read_csv('Simples_Carga_de_Energia_Dia_Hora_data.csv', sep= ';')\n",
        "X = dataset.iloc[:, :-1].values\n",
        "y = dataset.iloc[:, -1].values"
      ],
      "execution_count": 2,
      "outputs": []
    },
    {
      "cell_type": "markdown",
      "metadata": {
        "id": "ULRS8RwZq4TG"
      },
      "source": [
        "Visualizando os dados do dataframe:"
      ]
    },
    {
      "cell_type": "code",
      "metadata": {
        "colab": {
          "base_uri": "https://localhost:8080/",
          "height": 195
        },
        "id": "NUhEzBYkq4TH",
        "outputId": "a5c0c099-144a-420d-e310-fc76eb6ed3c0"
      },
      "source": [
        "dataset.head()"
      ],
      "execution_count": 3,
      "outputs": [
        {
          "output_type": "execute_result",
          "data": {
            "text/html": [
              "<div>\n",
              "<style scoped>\n",
              "    .dataframe tbody tr th:only-of-type {\n",
              "        vertical-align: middle;\n",
              "    }\n",
              "\n",
              "    .dataframe tbody tr th {\n",
              "        vertical-align: top;\n",
              "    }\n",
              "\n",
              "    .dataframe thead th {\n",
              "        text-align: right;\n",
              "    }\n",
              "</style>\n",
              "<table border=\"1\" class=\"dataframe\">\n",
              "  <thead>\n",
              "    <tr style=\"text-align: right;\">\n",
              "      <th></th>\n",
              "      <th>Dia</th>\n",
              "      <th>Carga</th>\n",
              "    </tr>\n",
              "  </thead>\n",
              "  <tbody>\n",
              "    <tr>\n",
              "      <th>0</th>\n",
              "      <td>1</td>\n",
              "      <td>56444</td>\n",
              "    </tr>\n",
              "    <tr>\n",
              "      <th>1</th>\n",
              "      <td>2</td>\n",
              "      <td>51166</td>\n",
              "    </tr>\n",
              "    <tr>\n",
              "      <th>2</th>\n",
              "      <td>3</td>\n",
              "      <td>59765</td>\n",
              "    </tr>\n",
              "    <tr>\n",
              "      <th>3</th>\n",
              "      <td>4</td>\n",
              "      <td>61327</td>\n",
              "    </tr>\n",
              "    <tr>\n",
              "      <th>4</th>\n",
              "      <td>5</td>\n",
              "      <td>61571</td>\n",
              "    </tr>\n",
              "  </tbody>\n",
              "</table>\n",
              "</div>"
            ],
            "text/plain": [
              "   Dia  Carga\n",
              "0    1  56444\n",
              "1    2  51166\n",
              "2    3  59765\n",
              "3    4  61327\n",
              "4    5  61571"
            ]
          },
          "metadata": {
            "tags": []
          },
          "execution_count": 3
        }
      ]
    },
    {
      "cell_type": "markdown",
      "metadata": {
        "id": "ouzwTGZYq4TP"
      },
      "source": [
        "Visualizando a informação do dataframe: "
      ]
    },
    {
      "cell_type": "code",
      "metadata": {
        "colab": {
          "base_uri": "https://localhost:8080/"
        },
        "id": "6EBpU5lQq4TR",
        "outputId": "4aad07f8-a92b-49ce-bb35-7aab17719482"
      },
      "source": [
        "dataset.info()"
      ],
      "execution_count": 4,
      "outputs": [
        {
          "output_type": "stream",
          "text": [
            "<class 'pandas.core.frame.DataFrame'>\n",
            "RangeIndex: 172 entries, 0 to 171\n",
            "Data columns (total 2 columns):\n",
            " #   Column  Non-Null Count  Dtype\n",
            "---  ------  --------------  -----\n",
            " 0   Dia     172 non-null    int64\n",
            " 1   Carga   172 non-null    int64\n",
            "dtypes: int64(2)\n",
            "memory usage: 2.8 KB\n"
          ],
          "name": "stdout"
        }
      ]
    },
    {
      "cell_type": "markdown",
      "metadata": {
        "id": "DKkx4TJMq4TT"
      },
      "source": [
        "Criando a função de erro:"
      ]
    },
    {
      "cell_type": "code",
      "metadata": {
        "id": "pPEzq3Hwq4TV"
      },
      "source": [
        "def rmsle(ytrue,ypred):\n",
        "    return np.sqrt(mean_squared_log_error(ytrue, ypred))"
      ],
      "execution_count": 5,
      "outputs": []
    },
    {
      "cell_type": "code",
      "metadata": {
        "id": "eLVe6g0Rq4TW"
      },
      "source": [
        "from sklearn.model_selection import train_test_split\n",
        "X_train, X_test, y_train, y_test = train_test_split(X, y, test_size = 0.2, random_state = 0)"
      ],
      "execution_count": 6,
      "outputs": []
    },
    {
      "cell_type": "code",
      "metadata": {
        "colab": {
          "base_uri": "https://localhost:8080/"
        },
        "id": "pqQ-Gi0Oq4TX",
        "outputId": "cf52d145-d587-4267-b011-c41bd73222f1"
      },
      "source": [
        "from sklearn.linear_model import LinearRegression\n",
        "regressor = LinearRegression()\n",
        "regressor.fit(X_train, y_train)\n",
        "\n"
      ],
      "execution_count": 7,
      "outputs": [
        {
          "output_type": "execute_result",
          "data": {
            "text/plain": [
              "LinearRegression(copy_X=True, fit_intercept=True, n_jobs=None, normalize=False)"
            ]
          },
          "metadata": {
            "tags": []
          },
          "execution_count": 7
        }
      ]
    },
    {
      "cell_type": "code",
      "metadata": {
        "colab": {
          "base_uri": "https://localhost:8080/"
        },
        "id": "QfTB7U62q4TY",
        "outputId": "38cd83ca-5f6a-41db-de84-511984ea2bc0"
      },
      "source": [
        "y_pred = regressor.predict(X_test)\n",
        "np.set_printoptions(precision=2)\n",
        "print(np.concatenate((y_pred.reshape(len(y_pred),1), y_test.reshape(len(y_test),1)),1))"
      ],
      "execution_count": 8,
      "outputs": [
        {
          "output_type": "stream",
          "text": [
            "[[64228.98 66238.  ]\n",
            " [68382.3  54095.  ]\n",
            " [64635.29 68568.  ]\n",
            " [64274.13 67176.  ]\n",
            " [67434.26 74144.  ]\n",
            " [66305.64 68422.  ]\n",
            " [62107.18 57605.  ]\n",
            " [68788.61 57652.  ]\n",
            " [66486.22 70270.  ]\n",
            " [65809.05 70571.  ]\n",
            " [68021.15 73842.  ]\n",
            " [68246.87 70924.  ]\n",
            " [62016.89 61785.  ]\n",
            " [66170.21 66602.  ]\n",
            " [69149.77 74766.  ]\n",
            " [65989.63 54764.  ]\n",
            " [63280.94 66116.  ]\n",
            " [62603.77 65540.  ]\n",
            " [64545.   73987.  ]\n",
            " [64093.55 65193.  ]\n",
            " [64770.72 73686.  ]\n",
            " [63461.52 58266.  ]\n",
            " [61971.74 61571.  ]\n",
            " [67118.25 72912.  ]\n",
            " [64499.85 72685.  ]\n",
            " [66711.95 69382.  ]\n",
            " [67343.97 73797.  ]\n",
            " [68066.29 74163.  ]\n",
            " [66757.09 67880.  ]\n",
            " [68969.19 74381.  ]\n",
            " [62964.93 63544.  ]\n",
            " [64319.27 63373.  ]\n",
            " [67479.41 67705.  ]\n",
            " [63822.68 67781.  ]\n",
            " [62152.32 51896.  ]]\n"
          ],
          "name": "stdout"
        }
      ]
    },
    {
      "cell_type": "code",
      "metadata": {
        "scrolled": true,
        "colab": {
          "base_uri": "https://localhost:8080/"
        },
        "id": "Xusk56kCq4TZ",
        "outputId": "8edba83d-9419-405f-8c25-29a9293b0b72"
      },
      "source": [
        "y_pred.reshape(len(y_pred),1)"
      ],
      "execution_count": 9,
      "outputs": [
        {
          "output_type": "execute_result",
          "data": {
            "text/plain": [
              "array([[64228.98],\n",
              "       [68382.3 ],\n",
              "       [64635.29],\n",
              "       [64274.13],\n",
              "       [67434.26],\n",
              "       [66305.64],\n",
              "       [62107.18],\n",
              "       [68788.61],\n",
              "       [66486.22],\n",
              "       [65809.05],\n",
              "       [68021.15],\n",
              "       [68246.87],\n",
              "       [62016.89],\n",
              "       [66170.21],\n",
              "       [69149.77],\n",
              "       [65989.63],\n",
              "       [63280.94],\n",
              "       [62603.77],\n",
              "       [64545.  ],\n",
              "       [64093.55],\n",
              "       [64770.72],\n",
              "       [63461.52],\n",
              "       [61971.74],\n",
              "       [67118.25],\n",
              "       [64499.85],\n",
              "       [66711.95],\n",
              "       [67343.97],\n",
              "       [68066.29],\n",
              "       [66757.09],\n",
              "       [68969.19],\n",
              "       [62964.93],\n",
              "       [64319.27],\n",
              "       [67479.41],\n",
              "       [63822.68],\n",
              "       [62152.32]])"
            ]
          },
          "metadata": {
            "tags": []
          },
          "execution_count": 9
        }
      ]
    },
    {
      "cell_type": "code",
      "metadata": {
        "colab": {
          "base_uri": "https://localhost:8080/"
        },
        "id": "5wp-dUCvBRLc",
        "outputId": "37b6acd8-e297-4c14-c713-0bb880a6dc40"
      },
      "source": [
        "dataset[\"Carga\"].values"
      ],
      "execution_count": 10,
      "outputs": [
        {
          "output_type": "execute_result",
          "data": {
            "text/plain": [
              "array([56444, 51166, 59765, 61327, 61571, 61785, 62083, 57605, 51896,\n",
              "       61439, 63689, 64535, 64604, 64867, 59609, 54103, 63036, 64937,\n",
              "       65540, 65050, 63100, 57187, 51241, 60199, 61920, 62552, 63544,\n",
              "       64228, 60155, 55334, 64665, 65471, 65695, 66116, 66602, 61396,\n",
              "       55543, 58266, 66049, 68005, 69089, 69307, 64653, 58402, 67985,\n",
              "       67781, 68305, 69121, 69059, 64291, 57334, 65193, 65474, 65244,\n",
              "       66238, 67176, 63373, 59173, 69466, 70828, 72685, 73987, 75094,\n",
              "       68568, 60443, 70676, 73686, 74885, 73707, 71917, 64394, 56122,\n",
              "       58005, 68713, 71383, 69703, 68586, 63043, 57252, 66855, 69801,\n",
              "       70155, 69717, 69274, 64317, 57902, 66955, 68850, 70603, 70571,\n",
              "       67669, 60170, 53598, 54764, 63766, 64816, 65757, 66602, 62802,\n",
              "       58187, 68422, 69143, 69910, 70111, 70270, 65613, 59596, 70601,\n",
              "       71142, 69382, 67880, 65539, 61938, 57034, 67560, 70219, 71857,\n",
              "       72804, 72912, 68082, 62105, 72562, 73442, 73797, 73661, 74144,\n",
              "       67705, 59264, 68045, 69650, 70935, 70661, 71402, 66923, 60976,\n",
              "       70941, 73292, 74405, 73842, 74163, 69471, 63944, 72092, 70924,\n",
              "       68564, 62368, 54095, 58255, 57541, 65549, 67777, 68643, 63599,\n",
              "       56005, 59190, 57652, 67414, 71184, 73657, 74381, 74600, 69380,\n",
              "       64003, 74766, 75548, 74260, 72539, 72144, 66942, 61907, 71759,\n",
              "       72409])"
            ]
          },
          "metadata": {
            "tags": []
          },
          "execution_count": 10
        }
      ]
    },
    {
      "cell_type": "markdown",
      "metadata": {
        "id": "1SmS2125q4Tb"
      },
      "source": [
        "Calculando o erro:"
      ]
    },
    {
      "cell_type": "code",
      "metadata": {
        "colab": {
          "base_uri": "https://localhost:8080/"
        },
        "id": "z7omJN32q4Tc",
        "outputId": "31b86f44-87ce-40c3-b63a-1bc5d816c33b"
      },
      "source": [
        "p = y_pred\n",
        "error = rmsle(y_test, p) * 100\n",
        "print('Mean Error =  %.2f' % np.mean(error), end='%' )\n"
      ],
      "execution_count": 11,
      "outputs": [
        {
          "output_type": "stream",
          "text": [
            "Mean Error =  9.15%"
          ],
          "name": "stdout"
        }
      ]
    },
    {
      "cell_type": "markdown",
      "metadata": {
        "id": "kZQuRMakehph"
      },
      "source": [
        "#Visualizando o gráfico da Previsão x Carga \r\n",
        "## Para o período de 01/ 08/ 2020 até 20 /01/ 2021"
      ]
    },
    {
      "cell_type": "code",
      "metadata": {
        "colab": {
          "base_uri": "https://localhost:8080/",
          "height": 281
        },
        "id": "SIMSap45fCzD",
        "outputId": "86a552a4-1500-4f3a-a7d7-190f4989b95e"
      },
      "source": [
        "plt.plot(dataset[\"Carga\"][0:137], color = 'GREEN',label = 'Carga' )\r\n",
        "plt.plot(dataset[\"Carga\"][137:], color = 'RED',label = 'Carga' )\r\n",
        "plt.title(\"CARGA - 2020/2021\")\r\n",
        "plt.show()"
      ],
      "execution_count": 34,
      "outputs": [
        {
          "output_type": "display_data",
          "data": {
            "image/png": "[encoded data removed]",
            "text/plain": [
              "<Figure size 432x288 with 1 Axes>"
            ]
          },
          "metadata": {
            "tags": [],
            "needs_background": "light"
          }
        }
      ]
    },
    {
      "cell_type": "code",
      "metadata": {
        "colab": {
          "base_uri": "https://localhost:8080/",
          "height": 279
        },
        "id": "NS8-PzcYq4Td",
        "outputId": "3b5039a3-a749-44cb-c1c7-6b92db47e7de"
      },
      "source": [
        "\r\n",
        "plt.plot(y_pred, color = 'blue', label = 'Previsão')\r\n",
        "plt.plot(y_test, color = 'red',label = 'Carga' )\r\n",
        "\r\n",
        "plt.xlabel('Tempo')\r\n",
        "plt.ylabel('Carga')\r\n",
        "plt.legend()\r\n",
        "plt.show()"
      ],
      "execution_count": 12,
      "outputs": [
        {
          "output_type": "display_data",
          "data": {
            "image/png": "[encoded data removed]",
            "text/plain": [
              "<Figure size 432x288 with 1 Axes>"
            ]
          },
          "metadata": {
            "tags": [],
            "needs_background": "light"
          }
        }
      ]
    }
  ]
}