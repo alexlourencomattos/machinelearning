{
 "cells": [
  {
   "cell_type": "markdown",
   "metadata": {},
   "source": [
    "# Regressão Linear Aplicada a previsão do impacto do despacho de usina Termoelétrica sob Custo Marginal De Operação"
   ]
  },
  {
   "cell_type": "code",
   "execution_count": 42,
   "metadata": {},
   "outputs": [],
   "source": [
    "import numpy as np\n",
    "import matplotlib.pyplot as plt\n",
    "import pandas as pd\n",
    "import sklearn\n",
    "from sklearn.metrics import mean_squared_error\n",
    "from scipy.stats import pearsonr, spearmanr"
   ]
  },
  {
   "cell_type": "markdown",
   "metadata": {},
   "source": [
    "## Recebendo o arquivo no modelo .csv"
   ]
  },
  {
   "cell_type": "code",
   "execution_count": 2,
   "metadata": {},
   "outputs": [],
   "source": [
    "dataset = pd.read_csv('Simples_Geração_de_Energia_Barra_Semana_data.csv', sep= ';', header = None)\n"
   ]
  },
  {
   "cell_type": "markdown",
   "metadata": {},
   "source": [
    "### Visualizando os dados do dataframe:"
   ]
  },
  {
   "cell_type": "code",
   "execution_count": 3,
   "metadata": {},
   "outputs": [
    {
     "data": {
      "text/html": [
       "<div>\n",
       "<style scoped>\n",
       "    .dataframe tbody tr th:only-of-type {\n",
       "        vertical-align: middle;\n",
       "    }\n",
       "\n",
       "    .dataframe tbody tr th {\n",
       "        vertical-align: top;\n",
       "    }\n",
       "\n",
       "    .dataframe thead th {\n",
       "        text-align: right;\n",
       "    }\n",
       "</style>\n",
       "<table border=\"1\" class=\"dataframe\">\n",
       "  <thead>\n",
       "    <tr style=\"text-align: right;\">\n",
       "      <th></th>\n",
       "      <th>0</th>\n",
       "      <th>1</th>\n",
       "      <th>2</th>\n",
       "    </tr>\n",
       "  </thead>\n",
       "  <tbody>\n",
       "    <tr>\n",
       "      <th>0</th>\n",
       "      <td>02/01/2016</td>\n",
       "      <td>937,67</td>\n",
       "      <td>27,8</td>\n",
       "    </tr>\n",
       "    <tr>\n",
       "      <th>1</th>\n",
       "      <td>09/01/2016</td>\n",
       "      <td>1009,05</td>\n",
       "      <td>20,64</td>\n",
       "    </tr>\n",
       "    <tr>\n",
       "      <th>2</th>\n",
       "      <td>16/01/2016</td>\n",
       "      <td>840,08</td>\n",
       "      <td>12,6</td>\n",
       "    </tr>\n",
       "    <tr>\n",
       "      <th>3</th>\n",
       "      <td>23/01/2016</td>\n",
       "      <td>839,19</td>\n",
       "      <td>9,66</td>\n",
       "    </tr>\n",
       "    <tr>\n",
       "      <th>4</th>\n",
       "      <td>30/01/2016</td>\n",
       "      <td>764,1</td>\n",
       "      <td>6,07</td>\n",
       "    </tr>\n",
       "  </tbody>\n",
       "</table>\n",
       "</div>"
      ],
      "text/plain": [
       "            0        1      2\n",
       "0  02/01/2016   937,67   27,8\n",
       "1  09/01/2016  1009,05  20,64\n",
       "2  16/01/2016   840,08   12,6\n",
       "3  23/01/2016   839,19   9,66\n",
       "4  30/01/2016    764,1   6,07"
      ]
     },
     "execution_count": 3,
     "metadata": {},
     "output_type": "execute_result"
    }
   ],
   "source": [
    "dataset.head()"
   ]
  },
  {
   "cell_type": "markdown",
   "metadata": {},
   "source": [
    "### Visualizando a informação do dataframe: "
   ]
  },
  {
   "cell_type": "code",
   "execution_count": 4,
   "metadata": {},
   "outputs": [
    {
     "name": "stdout",
     "output_type": "stream",
     "text": [
      "<class 'pandas.core.frame.DataFrame'>\n",
      "RangeIndex: 269 entries, 0 to 268\n",
      "Data columns (total 3 columns):\n",
      " #   Column  Non-Null Count  Dtype \n",
      "---  ------  --------------  ----- \n",
      " 0   0       269 non-null    object\n",
      " 1   1       269 non-null    object\n",
      " 2   2       269 non-null    object\n",
      "dtypes: object(3)\n",
      "memory usage: 6.4+ KB\n"
     ]
    }
   ],
   "source": [
    "dataset.info()\n"
   ]
  },
  {
   "cell_type": "markdown",
   "metadata": {},
   "source": [
    "### Inserindo os nomes das colunas"
   ]
  },
  {
   "cell_type": "code",
   "execution_count": 5,
   "metadata": {},
   "outputs": [],
   "source": [
    "dataset.columns = [\"Semana Operativa\", \"Ger_Term\", \"cmo\"]"
   ]
  },
  {
   "cell_type": "code",
   "execution_count": 6,
   "metadata": {},
   "outputs": [
    {
     "data": {
      "text/html": [
       "<div>\n",
       "<style scoped>\n",
       "    .dataframe tbody tr th:only-of-type {\n",
       "        vertical-align: middle;\n",
       "    }\n",
       "\n",
       "    .dataframe tbody tr th {\n",
       "        vertical-align: top;\n",
       "    }\n",
       "\n",
       "    .dataframe thead th {\n",
       "        text-align: right;\n",
       "    }\n",
       "</style>\n",
       "<table border=\"1\" class=\"dataframe\">\n",
       "  <thead>\n",
       "    <tr style=\"text-align: right;\">\n",
       "      <th></th>\n",
       "      <th>Semana Operativa</th>\n",
       "      <th>Ger_Term</th>\n",
       "      <th>cmo</th>\n",
       "    </tr>\n",
       "  </thead>\n",
       "  <tbody>\n",
       "    <tr>\n",
       "      <th>0</th>\n",
       "      <td>02/01/2016</td>\n",
       "      <td>937,67</td>\n",
       "      <td>27,8</td>\n",
       "    </tr>\n",
       "    <tr>\n",
       "      <th>1</th>\n",
       "      <td>09/01/2016</td>\n",
       "      <td>1009,05</td>\n",
       "      <td>20,64</td>\n",
       "    </tr>\n",
       "    <tr>\n",
       "      <th>2</th>\n",
       "      <td>16/01/2016</td>\n",
       "      <td>840,08</td>\n",
       "      <td>12,6</td>\n",
       "    </tr>\n",
       "    <tr>\n",
       "      <th>3</th>\n",
       "      <td>23/01/2016</td>\n",
       "      <td>839,19</td>\n",
       "      <td>9,66</td>\n",
       "    </tr>\n",
       "    <tr>\n",
       "      <th>4</th>\n",
       "      <td>30/01/2016</td>\n",
       "      <td>764,1</td>\n",
       "      <td>6,07</td>\n",
       "    </tr>\n",
       "  </tbody>\n",
       "</table>\n",
       "</div>"
      ],
      "text/plain": [
       "  Semana Operativa Ger_Term    cmo\n",
       "0       02/01/2016   937,67   27,8\n",
       "1       09/01/2016  1009,05  20,64\n",
       "2       16/01/2016   840,08   12,6\n",
       "3       23/01/2016   839,19   9,66\n",
       "4       30/01/2016    764,1   6,07"
      ]
     },
     "execution_count": 6,
     "metadata": {},
     "output_type": "execute_result"
    }
   ],
   "source": [
    "dataset.head()"
   ]
  },
  {
   "cell_type": "markdown",
   "metadata": {},
   "source": [
    "### Tratando os dados / Formatando"
   ]
  },
  {
   "cell_type": "code",
   "execution_count": 7,
   "metadata": {},
   "outputs": [],
   "source": [
    "dataset['Ger_Term'] = dataset['Ger_Term'].str.replace(',', '.').astype(float)\n"
   ]
  },
  {
   "cell_type": "code",
   "execution_count": 8,
   "metadata": {},
   "outputs": [],
   "source": [
    "dataset['cmo'] = dataset['cmo'].str.replace(',', '.').astype(float)"
   ]
  },
  {
   "cell_type": "code",
   "execution_count": 9,
   "metadata": {},
   "outputs": [
    {
     "data": {
      "text/html": [
       "<div>\n",
       "<style scoped>\n",
       "    .dataframe tbody tr th:only-of-type {\n",
       "        vertical-align: middle;\n",
       "    }\n",
       "\n",
       "    .dataframe tbody tr th {\n",
       "        vertical-align: top;\n",
       "    }\n",
       "\n",
       "    .dataframe thead th {\n",
       "        text-align: right;\n",
       "    }\n",
       "</style>\n",
       "<table border=\"1\" class=\"dataframe\">\n",
       "  <thead>\n",
       "    <tr style=\"text-align: right;\">\n",
       "      <th></th>\n",
       "      <th>Semana Operativa</th>\n",
       "      <th>Ger_Term</th>\n",
       "      <th>cmo</th>\n",
       "    </tr>\n",
       "  </thead>\n",
       "  <tbody>\n",
       "    <tr>\n",
       "      <th>0</th>\n",
       "      <td>02/01/2016</td>\n",
       "      <td>937.67</td>\n",
       "      <td>27.80</td>\n",
       "    </tr>\n",
       "    <tr>\n",
       "      <th>1</th>\n",
       "      <td>09/01/2016</td>\n",
       "      <td>1009.05</td>\n",
       "      <td>20.64</td>\n",
       "    </tr>\n",
       "    <tr>\n",
       "      <th>2</th>\n",
       "      <td>16/01/2016</td>\n",
       "      <td>840.08</td>\n",
       "      <td>12.60</td>\n",
       "    </tr>\n",
       "    <tr>\n",
       "      <th>3</th>\n",
       "      <td>23/01/2016</td>\n",
       "      <td>839.19</td>\n",
       "      <td>9.66</td>\n",
       "    </tr>\n",
       "    <tr>\n",
       "      <th>4</th>\n",
       "      <td>30/01/2016</td>\n",
       "      <td>764.10</td>\n",
       "      <td>6.07</td>\n",
       "    </tr>\n",
       "  </tbody>\n",
       "</table>\n",
       "</div>"
      ],
      "text/plain": [
       "  Semana Operativa  Ger_Term    cmo\n",
       "0       02/01/2016    937.67  27.80\n",
       "1       09/01/2016   1009.05  20.64\n",
       "2       16/01/2016    840.08  12.60\n",
       "3       23/01/2016    839.19   9.66\n",
       "4       30/01/2016    764.10   6.07"
      ]
     },
     "execution_count": 9,
     "metadata": {},
     "output_type": "execute_result"
    }
   ],
   "source": [
    "dataset.head()"
   ]
  },
  {
   "cell_type": "markdown",
   "metadata": {},
   "source": [
    "## Medindo a correlação entre as váriaveis\n"
   ]
  },
  {
   "cell_type": "code",
   "execution_count": 10,
   "metadata": {},
   "outputs": [
    {
     "data": {
      "image/png": "[encoded data removed]",
      "text/plain": [
       "<Figure size 504x360 with 1 Axes>"
      ]
     },
     "metadata": {
      "needs_background": "light"
     },
     "output_type": "display_data"
    }
   ],
   "source": [
    "corr = dataset.corr()\n",
    "plt.figure(figsize=(7,5))\n",
    "plt.imshow(corr, cmap= 'Blues', interpolation='none', aspect= 'auto')\n",
    "plt.colorbar\n",
    "plt.xticks(range(len(corr)), corr.columns, rotation= 'vertical')\n",
    "plt.yticks(range(len(corr)), corr.columns);\n",
    "plt.suptitle('Correlação entre variáveis', fontsize = 15, fontweight = 'bold')\n",
    "plt.grid(False)\n",
    "plt.show()"
   ]
  },
  {
   "cell_type": "markdown",
   "metadata": {},
   "source": [
    "### Na tabela acima pode-se inferir que a correlação entre as variáveis, em todo o dataset, é muito fraca."
   ]
  },
  {
   "cell_type": "markdown",
   "metadata": {},
   "source": [
    "## A seguir mostraremos ao autocorrelação das variáveis do dataset\n",
    "### Definiu-se um lag de 60 semanas operativas"
   ]
  },
  {
   "cell_type": "code",
   "execution_count": 68,
   "metadata": {},
   "outputs": [
    {
     "data": {
      "image/png": "[encoded data removed]",
      "text/plain": [
       "<Figure size 864x576 with 2 Axes>"
      ]
     },
     "metadata": {
      "needs_background": "light"
     },
     "output_type": "display_data"
    }
   ],
   "source": [
    "import statsmodels.api as sm\n",
    "fig = plt.figure(figsize=(12,8))\n",
    "ax1 = fig.add_subplot(211)\n",
    "fig = sm.graphics.tsa.plot_acf(dataset['Ger_Term'].values.squeeze(), lags=60, ax=ax1)\n",
    "ax2 = fig.add_subplot(212)\n",
    "fig = sm.graphics.tsa.plot_pacf(dataset[ 'cmo'].values, lags=60, ax=ax2)"
   ]
  },
  {
   "cell_type": "markdown",
   "metadata": {},
   "source": [
    "### Note que há uma forte correlação entre os dados nas semanas iniciais."
   ]
  },
  {
   "cell_type": "markdown",
   "metadata": {},
   "source": [
    "### Correlação de Spearman "
   ]
  },
  {
   "cell_type": "code",
   "execution_count": 105,
   "metadata": {},
   "outputs": [
    {
     "data": {
      "image/png": "[encoded data removed]",
      "text/plain": [
       "<Figure size 1152x720 with 1 Axes>"
      ]
     },
     "metadata": {
      "needs_background": "light"
     },
     "output_type": "display_data"
    }
   ],
   "source": [
    "plt.figure(figsize = (16,10))\n",
    "plt.plot(dataset['cmo'][0:40], dataset['cmo'][40:80])\n",
    "plt.xlabel(\"Custo Marginal da Operação - 29 Primeiras Semanas\", fontsize = 20)\n",
    "plt.ylabel(\"Custo Marginal da Operação - 29 Semanas A Frente\", fontsize = 20)\n",
    "corr, p_value = pearsonr(dataset['cmo'][0:40].values, dataset['cmo'][40:80].values)\n",
    "corrs, p_values = spearmanr(dataset['cmo'][0:40].values, dataset['cmo'][40:80].values)\n",
    "corr = int(corr*100)/100\n",
    "corrs = int(corr*100)/100\n",
    "\n",
    "string = 'Pearson corr. = ' +str(corr)\n",
    "plt.text(45,1, string, fontsize= 15)\n",
    "\n",
    "string = 'Spearman corr. = ' +str(corrs)\n",
    "plt.text(15,1, string, fontsize= 15)\n",
    "plt.show()"
   ]
  },
  {
   "cell_type": "markdown",
   "metadata": {},
   "source": [
    "### Separando as variáveis  "
   ]
  },
  {
   "cell_type": "code",
   "execution_count": 11,
   "metadata": {},
   "outputs": [],
   "source": [
    "X = dataset.iloc[:, 1:2].values\n",
    "y = dataset.iloc[:, 2:3].values"
   ]
  },
  {
   "cell_type": "markdown",
   "metadata": {},
   "source": [
    "### Criando a função de erro:"
   ]
  },
  {
   "cell_type": "code",
   "execution_count": 12,
   "metadata": {},
   "outputs": [],
   "source": [
    "def rmse(ytrue,ypred):\n",
    "    return np.sqrt(mean_squared_error(ytrue, ypred))"
   ]
  },
  {
   "cell_type": "markdown",
   "metadata": {},
   "source": [
    "### Criando o modelo preditivo"
   ]
  },
  {
   "cell_type": "code",
   "execution_count": 13,
   "metadata": {},
   "outputs": [],
   "source": [
    "from sklearn.model_selection import train_test_split\n",
    "X_train, X_test, y_train, y_test = train_test_split(X, y, test_size = 0.2, random_state = 0)"
   ]
  },
  {
   "cell_type": "code",
   "execution_count": 14,
   "metadata": {},
   "outputs": [
    {
     "data": {
      "text/plain": [
       "LinearRegression()"
      ]
     },
     "execution_count": 14,
     "metadata": {},
     "output_type": "execute_result"
    }
   ],
   "source": [
    "from sklearn.linear_model import LinearRegression\n",
    "regressor = LinearRegression()\n",
    "regressor.fit(X_train, y_train)\n"
   ]
  },
  {
   "cell_type": "markdown",
   "metadata": {},
   "source": [
    "### Plotando os valores de Y_pred - Y_test"
   ]
  },
  {
   "cell_type": "code",
   "execution_count": 15,
   "metadata": {},
   "outputs": [
    {
     "name": "stdout",
     "output_type": "stream",
     "text": [
      "[[464.44 368.03]\n",
      " [ 76.83 186.86]\n",
      " [238.86 468.54]\n",
      " [162.51  69.7 ]\n",
      " [ 80.17   0.  ]\n",
      " [ 53.55 157.33]\n",
      " [208.22 172.23]\n",
      " [147.76 122.4 ]\n",
      " [154.92  37.5 ]\n",
      " [155.25   1.79]\n",
      " [263.08 763.77]\n",
      " [481.35 630.47]\n",
      " [ 47.29 172.05]\n",
      " [388.72 262.72]\n",
      " [199.01 267.3 ]\n",
      " [123.67  91.42]\n",
      " [135.92 226.76]\n",
      " [170.39 184.3 ]\n",
      " [547.69 599.9 ]\n",
      " [217.39 204.12]\n",
      " [144.32   0.  ]\n",
      " [284.64 603.83]\n",
      " [ 95.14 109.76]\n",
      " [156.66 103.09]\n",
      " [326.68 220.24]\n",
      " [181.18  80.38]\n",
      " [105.22   0.  ]\n",
      " [129.45 104.4 ]\n",
      " [176.72 215.25]\n",
      " [ 68.85   0.  ]\n",
      " [258.27   1.19]\n",
      " [ 70.76 140.97]\n",
      " [400.7  229.61]\n",
      " [119.69 199.26]\n",
      " [390.19 224.4 ]\n",
      " [ 36.43  96.9 ]\n",
      " [486.27 514.12]\n",
      " [316.55 273.61]\n",
      " [121.84  54.12]\n",
      " [165.96 150.57]\n",
      " [358.47 309.28]\n",
      " [ 89.12 145.56]\n",
      " [298.01 128.35]\n",
      " [140.01 258.44]\n",
      " [308.42 287.31]\n",
      " [168.97  54.01]\n",
      " [320.2  262.04]\n",
      " [ -3.26 139.45]\n",
      " [294.26 238.27]\n",
      " [ 61.82  81.73]\n",
      " [254.1  323.41]\n",
      " [279.57   2.62]\n",
      " [265.2   40.07]\n",
      " [330.55 361.74]]\n"
     ]
    }
   ],
   "source": [
    "y_pred = regressor.predict(X_test)\n",
    "np.set_printoptions(precision=2)\n",
    "print(np.concatenate((y_pred.reshape(len(y_pred),1), y_test.reshape(len(y_test),1)),1))"
   ]
  },
  {
   "cell_type": "code",
   "execution_count": 16,
   "metadata": {
    "scrolled": true
   },
   "outputs": [
    {
     "data": {
      "text/plain": [
       "(54,)"
      ]
     },
     "execution_count": 16,
     "metadata": {},
     "output_type": "execute_result"
    }
   ],
   "source": [
    "y_pred = y_pred.reshape(len(y_pred),)\n",
    "y_pred.shape"
   ]
  },
  {
   "cell_type": "markdown",
   "metadata": {},
   "source": [
    "## Estabelecendo as métricas para encontrar os erros"
   ]
  },
  {
   "cell_type": "markdown",
   "metadata": {},
   "source": [
    "### Calculando o erro quadrático médio RMSE: "
   ]
  },
  {
   "cell_type": "code",
   "execution_count": 17,
   "metadata": {},
   "outputs": [
    {
     "name": "stdout",
     "output_type": "stream",
     "text": [
      "Mean Error =  135.64589\n"
     ]
    }
   ],
   "source": [
    "p = y_pred\n",
    "error = rmse(y_test, p) \n",
    "print('Mean Error = % .5f' % np.mean(error))\n"
   ]
  },
  {
   "cell_type": "markdown",
   "metadata": {},
   "source": [
    "### MAE - MEAN ABSOLUTE ERROR - ERRO MÉDIO ABSOLUTO \n",
    "#### minimizador = mediana / menos preocupado com outliers"
   ]
  },
  {
   "cell_type": "code",
   "execution_count": 18,
   "metadata": {},
   "outputs": [
    {
     "name": "stdout",
     "output_type": "stream",
     "text": [
      "Mean Error =  102.96821\n"
     ]
    }
   ],
   "source": [
    "from sklearn.metrics import mean_absolute_error\n",
    "mae = mean_absolute_error(y_test, p)\n",
    "print('Mean Error = % .5f' % np.mean(mae))"
   ]
  },
  {
   "cell_type": "markdown",
   "metadata": {},
   "source": [
    "### Analisando o gráfico do comportamento do CMO com o despacho de termoelétricas "
   ]
  },
  {
   "cell_type": "code",
   "execution_count": 19,
   "metadata": {},
   "outputs": [
    {
     "data": {
      "image/png": "[encoded data removed]",
      "text/plain": [
       "<Figure size 432x288 with 1 Axes>"
      ]
     },
     "metadata": {
      "needs_background": "light"
     },
     "output_type": "display_data"
    }
   ],
   "source": [
    "plt.scatter(X, y, color = 'red')\n",
    "plt.plot(X_test, y_pred, color = 'blue')\n",
    "plt.title('Geração Term x CMO (Linear Regression)')\n",
    "plt.xlabel('Geração Térmica')\n",
    "plt.ylabel('CMO/(R$/MWh)')\n",
    "plt.show()"
   ]
  },
  {
   "cell_type": "code",
   "execution_count": 20,
   "metadata": {},
   "outputs": [
    {
     "data": {
      "text/plain": [
       "array([[208.85]])"
      ]
     },
     "execution_count": 20,
     "metadata": {},
     "output_type": "execute_result"
    }
   ],
   "source": [
    "regressor.predict([[707]])"
   ]
  },
  {
   "cell_type": "markdown",
   "metadata": {},
   "source": [
    "#### O valor do cmo correpondente a semana operativa em questão corresponde a 175,74 reais"
   ]
  },
  {
   "cell_type": "markdown",
   "metadata": {},
   "source": [
    "# Modelo de Regressão Não-Linear \n",
    "## Treinando o modelo de Regressão Polinomial em Todo o Dataset"
   ]
  },
  {
   "cell_type": "code",
   "execution_count": 21,
   "metadata": {},
   "outputs": [
    {
     "data": {
      "text/plain": [
       "LinearRegression()"
      ]
     },
     "execution_count": 21,
     "metadata": {},
     "output_type": "execute_result"
    }
   ],
   "source": [
    "from sklearn.preprocessing import PolynomialFeatures\n",
    "poly_reg = PolynomialFeatures(degree = 4)\n",
    "X_poly = poly_reg.fit_transform(X)\n",
    "lin_reg_2 = LinearRegression()\n",
    "lin_reg_2.fit(X_poly, y) "
   ]
  },
  {
   "cell_type": "code",
   "execution_count": 22,
   "metadata": {},
   "outputs": [],
   "source": [
    "\n",
    "y_pred_poly = lin_reg_2.predict( poly_reg.fit_transform(X))\n"
   ]
  },
  {
   "cell_type": "code",
   "execution_count": 23,
   "metadata": {},
   "outputs": [
    {
     "name": "stdout",
     "output_type": "stream",
     "text": [
      "Mean Error =  142.18803\n"
     ]
    }
   ],
   "source": [
    "p_poly = y_pred_poly\n",
    "\n",
    "error = rmse(y, p_poly) \n",
    "print('Mean Error = % .5f' % np.mean(error))"
   ]
  },
  {
   "cell_type": "code",
   "execution_count": 24,
   "metadata": {},
   "outputs": [
    {
     "name": "stdout",
     "output_type": "stream",
     "text": [
      "Mean Error =  99.79470\n"
     ]
    }
   ],
   "source": [
    "from sklearn.metrics import mean_absolute_error\n",
    "mae_poly = mean_absolute_error(y, p_poly)\n",
    "print('Mean Error = % .5f' % np.mean(mae_poly))"
   ]
  },
  {
   "cell_type": "code",
   "execution_count": 25,
   "metadata": {},
   "outputs": [
    {
     "data": {
      "text/plain": [
       "array([[185.3]])"
      ]
     },
     "execution_count": 25,
     "metadata": {},
     "output_type": "execute_result"
    }
   ],
   "source": [
    "lin_reg_2.predict(poly_reg.fit_transform([[707]]))"
   ]
  },
  {
   "cell_type": "markdown",
   "metadata": {},
   "source": [
    "#### O valor do cmo correpondente a semana operativa em questão corresponde a 175,74 reais"
   ]
  },
  {
   "cell_type": "markdown",
   "metadata": {},
   "source": [
    "## Visualizando os Resultados da Regressão Polinomial"
   ]
  },
  {
   "cell_type": "code",
   "execution_count": 26,
   "metadata": {},
   "outputs": [
    {
     "data": {
      "image/png": "[encoded data removed]",
      "text/plain": [
       "<Figure size 432x288 with 1 Axes>"
      ]
     },
     "metadata": {
      "needs_background": "light"
     },
     "output_type": "display_data"
    }
   ],
   "source": [
    "plt.scatter(X, y, color = 'red')\n",
    "plt.plot(X, lin_reg_2.predict(poly_reg.fit_transform(X)), color = 'blue')\n",
    "plt.title('Geração Term x CMO (Polynomial Regression)')\n",
    "plt.xlabel('Geração Térmica')\n",
    "plt.ylabel('CMO/(R$/MWh)')\n",
    "plt.show()"
   ]
  },
  {
   "cell_type": "markdown",
   "metadata": {},
   "source": [
    "## Visualizando os resultados da Regressão Polinomial ( para maior resolução e smooth da curva\n"
   ]
  },
  {
   "cell_type": "code",
   "execution_count": 27,
   "metadata": {},
   "outputs": [
    {
     "data": {
      "image/png": "[encoded data removed]",
      "text/plain": [
       "<Figure size 432x288 with 1 Axes>"
      ]
     },
     "metadata": {
      "needs_background": "light"
     },
     "output_type": "display_data"
    }
   ],
   "source": [
    "X_grid = np.arange(min(X), max(X), 0.1)\n",
    "X_grid = X_grid.reshape((len(X_grid), 1))\n",
    "plt.scatter(X, y, color = 'red')\n",
    "plt.plot(X_grid, lin_reg_2.predict(poly_reg.fit_transform(X_grid)), color = 'blue')\n",
    "plt.title('Geração Term x CMO (Polynomial Regression)')\n",
    "plt.xlabel('Geração Térmica')\n",
    "plt.ylabel('CMO/(R$/MWh)')\n",
    "plt.show()"
   ]
  },
  {
   "cell_type": "markdown",
   "metadata": {},
   "source": [
    "# Adicionando nova váriaveis\n",
    "### Realizando a regressão linear para o incremento ou decremento de geração térmica"
   ]
  },
  {
   "cell_type": "code",
   "execution_count": 28,
   "metadata": {},
   "outputs": [
    {
     "data": {
      "text/html": [
       "<div>\n",
       "<style scoped>\n",
       "    .dataframe tbody tr th:only-of-type {\n",
       "        vertical-align: middle;\n",
       "    }\n",
       "\n",
       "    .dataframe tbody tr th {\n",
       "        vertical-align: top;\n",
       "    }\n",
       "\n",
       "    .dataframe thead th {\n",
       "        text-align: right;\n",
       "    }\n",
       "</style>\n",
       "<table border=\"1\" class=\"dataframe\">\n",
       "  <thead>\n",
       "    <tr style=\"text-align: right;\">\n",
       "      <th></th>\n",
       "      <th>Semana Operativa</th>\n",
       "      <th>Ger_Term</th>\n",
       "      <th>cmo</th>\n",
       "      <th>Ger_Term_sem-1</th>\n",
       "      <th>Diff_Ger_Term</th>\n",
       "    </tr>\n",
       "  </thead>\n",
       "  <tbody>\n",
       "    <tr>\n",
       "      <th>1</th>\n",
       "      <td>09/01/2016</td>\n",
       "      <td>1009.05</td>\n",
       "      <td>20.64</td>\n",
       "      <td>937.67</td>\n",
       "      <td>71.38</td>\n",
       "    </tr>\n",
       "    <tr>\n",
       "      <th>2</th>\n",
       "      <td>16/01/2016</td>\n",
       "      <td>840.08</td>\n",
       "      <td>12.60</td>\n",
       "      <td>1009.05</td>\n",
       "      <td>-168.97</td>\n",
       "    </tr>\n",
       "    <tr>\n",
       "      <th>3</th>\n",
       "      <td>23/01/2016</td>\n",
       "      <td>839.19</td>\n",
       "      <td>9.66</td>\n",
       "      <td>840.08</td>\n",
       "      <td>-0.89</td>\n",
       "    </tr>\n",
       "    <tr>\n",
       "      <th>4</th>\n",
       "      <td>30/01/2016</td>\n",
       "      <td>764.10</td>\n",
       "      <td>6.07</td>\n",
       "      <td>839.19</td>\n",
       "      <td>-75.09</td>\n",
       "    </tr>\n",
       "    <tr>\n",
       "      <th>5</th>\n",
       "      <td>06/02/2016</td>\n",
       "      <td>824.12</td>\n",
       "      <td>2.62</td>\n",
       "      <td>764.10</td>\n",
       "      <td>60.02</td>\n",
       "    </tr>\n",
       "  </tbody>\n",
       "</table>\n",
       "</div>"
      ],
      "text/plain": [
       "  Semana Operativa  Ger_Term    cmo  Ger_Term_sem-1  Diff_Ger_Term\n",
       "1       09/01/2016   1009.05  20.64          937.67          71.38\n",
       "2       16/01/2016    840.08  12.60         1009.05        -168.97\n",
       "3       23/01/2016    839.19   9.66          840.08          -0.89\n",
       "4       30/01/2016    764.10   6.07          839.19         -75.09\n",
       "5       06/02/2016    824.12   2.62          764.10          60.02"
      ]
     },
     "execution_count": 28,
     "metadata": {},
     "output_type": "execute_result"
    }
   ],
   "source": [
    "melt = dataset.copy()\n",
    "melt['Ger_Term_sem-1'] = dataset['Ger_Term'].shift()\n",
    "melt['Diff_Ger_Term'] = dataset['Ger_Term'].diff()\n",
    "melt = melt.dropna()\n",
    "melt.head()"
   ]
  },
  {
   "cell_type": "markdown",
   "metadata": {},
   "source": [
    "## Medindo a correlação entre as váriaveis com diferentes features"
   ]
  },
  {
   "cell_type": "code",
   "execution_count": 29,
   "metadata": {},
   "outputs": [
    {
     "data": {
      "image/png": "[encoded data removed]",
      "text/plain": [
       "<Figure size 504x360 with 1 Axes>"
      ]
     },
     "metadata": {
      "needs_background": "light"
     },
     "output_type": "display_data"
    }
   ],
   "source": [
    "corr = melt.corr()\n",
    "plt.figure(figsize=(7,5))\n",
    "plt.imshow(corr, cmap= 'Blues', interpolation='none', aspect= 'auto')\n",
    "plt.colorbar\n",
    "plt.xticks(range(len(corr)), corr.columns, rotation= 'vertical')\n",
    "plt.yticks(range(len(corr)), corr.columns);\n",
    "plt.suptitle('Correlação entre variáveis', fontsize = 15, fontweight = 'bold')\n",
    "plt.grid(False)\n",
    "plt.show()"
   ]
  },
  {
   "cell_type": "code",
   "execution_count": 30,
   "metadata": {},
   "outputs": [
    {
     "data": {
      "text/html": [
       "<div>\n",
       "<style scoped>\n",
       "    .dataframe tbody tr th:only-of-type {\n",
       "        vertical-align: middle;\n",
       "    }\n",
       "\n",
       "    .dataframe tbody tr th {\n",
       "        vertical-align: top;\n",
       "    }\n",
       "\n",
       "    .dataframe thead th {\n",
       "        text-align: right;\n",
       "    }\n",
       "</style>\n",
       "<table border=\"1\" class=\"dataframe\">\n",
       "  <thead>\n",
       "    <tr style=\"text-align: right;\">\n",
       "      <th></th>\n",
       "      <th>index</th>\n",
       "      <th>Semana Operativa</th>\n",
       "      <th>Ger_Term</th>\n",
       "      <th>cmo</th>\n",
       "      <th>Ger_Term_sem-1</th>\n",
       "      <th>Diff_Ger_Term</th>\n",
       "    </tr>\n",
       "  </thead>\n",
       "  <tbody>\n",
       "    <tr>\n",
       "      <th>0</th>\n",
       "      <td>1</td>\n",
       "      <td>09/01/2016</td>\n",
       "      <td>1009.05</td>\n",
       "      <td>20.64</td>\n",
       "      <td>937.67</td>\n",
       "      <td>71.38</td>\n",
       "    </tr>\n",
       "    <tr>\n",
       "      <th>1</th>\n",
       "      <td>2</td>\n",
       "      <td>16/01/2016</td>\n",
       "      <td>840.08</td>\n",
       "      <td>12.60</td>\n",
       "      <td>1009.05</td>\n",
       "      <td>-168.97</td>\n",
       "    </tr>\n",
       "    <tr>\n",
       "      <th>2</th>\n",
       "      <td>3</td>\n",
       "      <td>23/01/2016</td>\n",
       "      <td>839.19</td>\n",
       "      <td>9.66</td>\n",
       "      <td>840.08</td>\n",
       "      <td>-0.89</td>\n",
       "    </tr>\n",
       "    <tr>\n",
       "      <th>3</th>\n",
       "      <td>4</td>\n",
       "      <td>30/01/2016</td>\n",
       "      <td>764.10</td>\n",
       "      <td>6.07</td>\n",
       "      <td>839.19</td>\n",
       "      <td>-75.09</td>\n",
       "    </tr>\n",
       "    <tr>\n",
       "      <th>4</th>\n",
       "      <td>5</td>\n",
       "      <td>06/02/2016</td>\n",
       "      <td>824.12</td>\n",
       "      <td>2.62</td>\n",
       "      <td>764.10</td>\n",
       "      <td>60.02</td>\n",
       "    </tr>\n",
       "  </tbody>\n",
       "</table>\n",
       "</div>"
      ],
      "text/plain": [
       "   index Semana Operativa  Ger_Term    cmo  Ger_Term_sem-1  Diff_Ger_Term\n",
       "0      1       09/01/2016   1009.05  20.64          937.67          71.38\n",
       "1      2       16/01/2016    840.08  12.60         1009.05        -168.97\n",
       "2      3       23/01/2016    839.19   9.66          840.08          -0.89\n",
       "3      4       30/01/2016    764.10   6.07          839.19         -75.09\n",
       "4      5       06/02/2016    824.12   2.62          764.10          60.02"
      ]
     },
     "execution_count": 30,
     "metadata": {},
     "output_type": "execute_result"
    }
   ],
   "source": [
    "melt.reset_index(inplace = True)\n",
    "melt.set_index('index')\n",
    "melt.head()"
   ]
  },
  {
   "cell_type": "code",
   "execution_count": 31,
   "metadata": {},
   "outputs": [],
   "source": [
    "import numpy as np\n",
    "for index, row in melt.iterrows():\n",
    "    \n",
    "     if index > 1:\n",
    "        if pd.isnull(row['Diff_Ger_Term']):\n",
    "            melt.loc[index, 'Diff_Ger_Term'] = (melt.loc[index-1,'Diff_Ger_Term']+melt.loc[index-2,  'Diff_Ger_Term'])/2\n",
    "        else:\n",
    "\n",
    "             if pd.isnull(row['Diff_Ger_Term']):\n",
    "                melt.loc[index, 'Diff_Ger_Term'] = (melt.loc[index+2,'Diff_Ger_Term']+melt.loc[index+1,  'Diff_Ger_Term'])/2    "
   ]
  },
  {
   "cell_type": "code",
   "execution_count": 32,
   "metadata": {},
   "outputs": [],
   "source": [
    "a = melt.iloc[:, 4:5].values\n",
    "b = melt.iloc[:, 2:3].values"
   ]
  },
  {
   "cell_type": "code",
   "execution_count": 33,
   "metadata": {},
   "outputs": [],
   "source": [
    "X_train_1, X_test_1, y_train_1, y_test_1 = train_test_split(a, b, test_size = 0.2, random_state = 0)"
   ]
  },
  {
   "cell_type": "code",
   "execution_count": 34,
   "metadata": {},
   "outputs": [
    {
     "data": {
      "text/plain": [
       "LinearRegression()"
      ]
     },
     "execution_count": 34,
     "metadata": {},
     "output_type": "execute_result"
    }
   ],
   "source": [
    "from sklearn.linear_model import LinearRegression\n",
    "regressor = LinearRegression()\n",
    "regressor.fit(X_train_1, y_train_1)"
   ]
  },
  {
   "cell_type": "code",
   "execution_count": 35,
   "metadata": {},
   "outputs": [
    {
     "name": "stdout",
     "output_type": "stream",
     "text": [
      "[[464.44 368.03]\n",
      " [ 76.83 186.86]\n",
      " [238.86 468.54]\n",
      " [162.51  69.7 ]\n",
      " [ 80.17   0.  ]\n",
      " [ 53.55 157.33]\n",
      " [208.22 172.23]\n",
      " [147.76 122.4 ]\n",
      " [154.92  37.5 ]\n",
      " [155.25   1.79]\n",
      " [263.08 763.77]\n",
      " [481.35 630.47]\n",
      " [ 47.29 172.05]\n",
      " [388.72 262.72]\n",
      " [199.01 267.3 ]\n",
      " [123.67  91.42]\n",
      " [135.92 226.76]\n",
      " [170.39 184.3 ]\n",
      " [547.69 599.9 ]\n",
      " [217.39 204.12]\n",
      " [144.32   0.  ]\n",
      " [284.64 603.83]\n",
      " [ 95.14 109.76]\n",
      " [156.66 103.09]\n",
      " [326.68 220.24]\n",
      " [181.18  80.38]\n",
      " [105.22   0.  ]\n",
      " [129.45 104.4 ]\n",
      " [176.72 215.25]\n",
      " [ 68.85   0.  ]\n",
      " [258.27   1.19]\n",
      " [ 70.76 140.97]\n",
      " [400.7  229.61]\n",
      " [119.69 199.26]\n",
      " [390.19 224.4 ]\n",
      " [ 36.43  96.9 ]\n",
      " [486.27 514.12]\n",
      " [316.55 273.61]\n",
      " [121.84  54.12]\n",
      " [165.96 150.57]\n",
      " [358.47 309.28]\n",
      " [ 89.12 145.56]\n",
      " [298.01 128.35]\n",
      " [140.01 258.44]\n",
      " [308.42 287.31]\n",
      " [168.97  54.01]\n",
      " [320.2  262.04]\n",
      " [ -3.26 139.45]\n",
      " [294.26 238.27]\n",
      " [ 61.82  81.73]\n",
      " [254.1  323.41]\n",
      " [279.57   2.62]\n",
      " [265.2   40.07]\n",
      " [330.55 361.74]]\n"
     ]
    }
   ],
   "source": [
    "y_pred_1 = regressor.predict(X_test_1)\n",
    "np.set_printoptions(precision=2)\n",
    "print(np.concatenate((y_pred.reshape(len(y_pred),1), y_test.reshape(len(y_test),1)),1))"
   ]
  },
  {
   "cell_type": "code",
   "execution_count": 36,
   "metadata": {},
   "outputs": [],
   "source": [
    "y_pred_1 = y_pred_1.reshape(len(y_pred_1),1)"
   ]
  },
  {
   "cell_type": "code",
   "execution_count": 37,
   "metadata": {},
   "outputs": [
    {
     "name": "stdout",
     "output_type": "stream",
     "text": [
      "Mean Error =  97.50771\n"
     ]
    }
   ],
   "source": [
    "p_1 = y_pred_1\n",
    "error = rmse(y_test_1, p_1) \n",
    "print('Mean Error = % .5f' % np.mean(error))"
   ]
  },
  {
   "cell_type": "code",
   "execution_count": 38,
   "metadata": {},
   "outputs": [
    {
     "name": "stdout",
     "output_type": "stream",
     "text": [
      "Mean Error =  0.10761\n"
     ]
    }
   ],
   "source": [
    "erro = (np.abs((y_test_1 - p_1)/p_1))\n",
    "print('Mean Error = % .5f' % np.mean(erro))"
   ]
  },
  {
   "cell_type": "markdown",
   "metadata": {},
   "source": [
    "## Modelos de Regressão / Multiplas Variáveis"
   ]
  },
  {
   "cell_type": "markdown",
   "metadata": {},
   "source": [
    "## Os modelos a seguir tentam prever o Custo Marginal da Operação (CMO) a partir dos dados de geração termoelétrica da região sudeste/ Centro - Oeste e da diferença entre esses dados (incremento ou decremento da geração)"
   ]
  },
  {
   "cell_type": "markdown",
   "metadata": {},
   "source": [
    "### Random Forest Regressor"
   ]
  },
  {
   "cell_type": "code",
   "execution_count": 39,
   "metadata": {},
   "outputs": [
    {
     "name": "stdout",
     "output_type": "stream",
     "text": [
      "Mean Error = 90.85494\n"
     ]
    }
   ],
   "source": [
    "from sklearn.ensemble import RandomForestRegressor\n",
    "mean_error = []\n",
    "for i in range(240,269):\n",
    "    train = melt[melt['index'].values <= i]\n",
    "    val = melt[melt['index'].values >= i]\n",
    "    \n",
    "    xtr, xts = train.drop(['Semana Operativa', 'cmo'], axis=1), val.drop(['Semana Operativa', 'cmo'], axis=1)\n",
    "    ytr, yts = train['cmo'].values, val['cmo'].values\n",
    "    \n",
    "    mdl = RandomForestRegressor(n_estimators=1000, n_jobs=-1, random_state=0)\n",
    "    mdl.fit(xtr, np.log1p(ytr))\n",
    "    \n",
    "    p = np.expm1(mdl.predict(xts))\n",
    "    sem = melt[melt['index'] >= i]['Semana Operativa'].values\n",
    "    error = rmse(yts, p)\n",
    "    #print('semana %d - Error %.5f' % (index, error))\n",
    "    mean_error.append(error)\n",
    "print('Mean Error = %.5f' % np.mean(mean_error))\n"
   ]
  },
  {
   "cell_type": "code",
   "execution_count": 106,
   "metadata": {},
   "outputs": [
    {
     "data": {
      "text/plain": [
       "(29, 2)"
      ]
     },
     "execution_count": 106,
     "metadata": {},
     "output_type": "execute_result"
    }
   ],
   "source": [
    "sem = melt['Semana Operativa'][0:29].values\n",
    "mean_error = np.array(mean_error)\n",
    "mean_error.shape\n",
    "data = np.concatenate((sem.reshape(len(sem),1), mean_error.reshape(len(mean_error),1)),1)\n",
    "data.shape"
   ]
  },
  {
   "cell_type": "code",
   "execution_count": 107,
   "metadata": {},
   "outputs": [
    {
     "data": {
      "text/html": [
       "<div>\n",
       "<style scoped>\n",
       "    .dataframe tbody tr th:only-of-type {\n",
       "        vertical-align: middle;\n",
       "    }\n",
       "\n",
       "    .dataframe tbody tr th {\n",
       "        vertical-align: top;\n",
       "    }\n",
       "\n",
       "    .dataframe thead th {\n",
       "        text-align: right;\n",
       "    }\n",
       "</style>\n",
       "<table border=\"1\" class=\"dataframe\">\n",
       "  <thead>\n",
       "    <tr style=\"text-align: right;\">\n",
       "      <th></th>\n",
       "      <th>Semana</th>\n",
       "      <th>Erro</th>\n",
       "    </tr>\n",
       "  </thead>\n",
       "  <tbody>\n",
       "    <tr>\n",
       "      <th>0</th>\n",
       "      <td>09/01/2016</td>\n",
       "      <td>111.932</td>\n",
       "    </tr>\n",
       "    <tr>\n",
       "      <th>1</th>\n",
       "      <td>16/01/2016</td>\n",
       "      <td>112.706</td>\n",
       "    </tr>\n",
       "    <tr>\n",
       "      <th>2</th>\n",
       "      <td>23/01/2016</td>\n",
       "      <td>112.138</td>\n",
       "    </tr>\n",
       "    <tr>\n",
       "      <th>3</th>\n",
       "      <td>30/01/2016</td>\n",
       "      <td>114.674</td>\n",
       "    </tr>\n",
       "    <tr>\n",
       "      <th>4</th>\n",
       "      <td>06/02/2016</td>\n",
       "      <td>116.452</td>\n",
       "    </tr>\n",
       "  </tbody>\n",
       "</table>\n",
       "</div>"
      ],
      "text/plain": [
       "       Semana     Erro\n",
       "0  09/01/2016  111.932\n",
       "1  16/01/2016  112.706\n",
       "2  23/01/2016  112.138\n",
       "3  30/01/2016  114.674\n",
       "4  06/02/2016  116.452"
      ]
     },
     "execution_count": 107,
     "metadata": {},
     "output_type": "execute_result"
    }
   ],
   "source": [
    "data = pd.DataFrame(np.array(data).reshape(29,2),columns =[\"Semana\",\"Erro\"])\n",
    "data.head()"
   ]
  },
  {
   "cell_type": "code",
   "execution_count": 108,
   "metadata": {},
   "outputs": [
    {
     "data": {
      "text/plain": [
       "<Figure size 1080x864 with 0 Axes>"
      ]
     },
     "metadata": {},
     "output_type": "display_data"
    },
    {
     "data": {
      "image/png": "[encoded data removed]",
      "text/plain": [
       "<Figure size 432x288 with 1 Axes>"
      ]
     },
     "metadata": {
      "needs_background": "light"
     },
     "output_type": "display_data"
    }
   ],
   "source": [
    "plt.figure(figsize = (15,12))\n",
    "data.plot(title = 'Variação do Erro no Tempo - RMSE - RandomForestRegressor', color = 'blue')\n",
    "plt.ylabel('Erro')\n",
    "plt.xlabel('Semana')\n",
    "plt.show()"
   ]
  },
  {
   "cell_type": "markdown",
   "metadata": {},
   "source": [
    "### Regressão Linear Múltipla"
   ]
  },
  {
   "cell_type": "code",
   "execution_count": 110,
   "metadata": {},
   "outputs": [
    {
     "name": "stdout",
     "output_type": "stream",
     "text": [
      "semana 240 - Error 327.56735\n",
      "semana 241 - Error 330.51090\n",
      "semana 242 - Error 334.47270\n",
      "semana 243 - Error 339.29903\n",
      "semana 244 - Error 343.74258\n",
      "semana 245 - Error 349.02054\n",
      "semana 246 - Error 353.89022\n",
      "semana 247 - Error 393.89830\n",
      "semana 248 - Error 518.54929\n",
      "semana 249 - Error 377.70094\n",
      "semana 250 - Error 372.01698\n",
      "semana 251 - Error 398.48279\n",
      "semana 252 - Error 347.10732\n",
      "semana 253 - Error 286.73089\n",
      "semana 254 - Error 244.48942\n",
      "semana 255 - Error 250.02926\n",
      "semana 256 - Error 224.50615\n",
      "semana 257 - Error 213.99022\n",
      "semana 258 - Error 219.92911\n",
      "semana 259 - Error 149.48425\n",
      "semana 260 - Error 111.97206\n",
      "semana 261 - Error 91.81689\n",
      "semana 262 - Error 80.41859\n",
      "semana 263 - Error 61.87239\n",
      "semana 264 - Error 39.24848\n",
      "semana 265 - Error 15.26660\n",
      "semana 266 - Error 16.37361\n",
      "semana 267 - Error 16.77404\n",
      "semana 268 - Error 152.88031\n",
      "Mean Error = 240.07039\n"
     ]
    }
   ],
   "source": [
    "mean_error = []\n",
    "for index in range(240,269):\n",
    "    train = melt[melt['index'] < index]\n",
    "    val = melt[melt['index'] >= index]\n",
    "    \n",
    "    xtr, xts = train.drop(['Semana Operativa', 'cmo'], axis=1), val.drop(['Semana Operativa', 'cmo'], axis=1)\n",
    "    ytr, yts = train['cmo'].values, val['cmo'].values\n",
    "    \n",
    "    mdl = LinearRegression()\n",
    "    \n",
    "    mdl.fit(xtr, np.log1p(ytr))\n",
    "    \n",
    "    p = np.expm1(mdl.predict(xts))\n",
    "    \n",
    "    error = rmse(yts, p)\n",
    "    print('semana %d - Error %.5f' % (index, error))\n",
    "    mean_error.append(error)\n",
    "print('Mean Error = %.5f' % np.mean(mean_error))\n"
   ]
  },
  {
   "cell_type": "code",
   "execution_count": null,
   "metadata": {},
   "outputs": [],
   "source": []
  }
 ],
 "metadata": {
  "kernelspec": {
   "display_name": "Python 3",
   "language": "python",
   "name": "python3"
  },
  "language_info": {
   "codemirror_mode": {
    "name": "ipython",
    "version": 3
   },
   "file_extension": ".py",
   "mimetype": "text/x-python",
   "name": "python",
   "nbconvert_exporter": "python",
   "pygments_lexer": "ipython3",
   "version": "3.8.3"
  }
 },
 "nbformat": 4,
 "nbformat_minor": 2
}
