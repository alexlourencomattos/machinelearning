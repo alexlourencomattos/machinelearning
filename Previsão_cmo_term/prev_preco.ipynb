{
 "cells": [
  {
   "cell_type": "markdown",
   "metadata": {},
   "source": [
    "# Regressão Linear Aplicada a previsão do impacto do despacho de usina Termoelétrica sob Custo Marginal De Operação"
   ]
  },
  {
   "cell_type": "code",
   "execution_count": 1,
   "metadata": {},
   "outputs": [],
   "source": [
    "import numpy as np\n",
    "import matplotlib.pyplot as plt\n",
    "import pandas as pd\n",
    "import sklearn\n",
    "from sklearn.metrics import mean_squared_error\n",
    "from scipy.stats import pearsonr, spearmanr"
   ]
  },
  {
   "cell_type": "markdown",
   "metadata": {},
   "source": [
    "## Recebendo o arquivo no modelo .csv"
   ]
  },
  {
   "cell_type": "code",
   "execution_count": 2,
   "metadata": {},
   "outputs": [],
   "source": [
    "dataset = pd.read_csv('Simples_Geração_de_Energia_Barra_Semana_data.csv', sep= ';', header = None)\n"
   ]
  },
  {
   "cell_type": "markdown",
   "metadata": {},
   "source": [
    "### Visualizando os dados do dataframe:"
   ]
  },
  {
   "cell_type": "code",
   "execution_count": 3,
   "metadata": {},
   "outputs": [
    {
     "data": {
      "text/html": [
       "<div>\n",
       "<style scoped>\n",
       "    .dataframe tbody tr th:only-of-type {\n",
       "        vertical-align: middle;\n",
       "    }\n",
       "\n",
       "    .dataframe tbody tr th {\n",
       "        vertical-align: top;\n",
       "    }\n",
       "\n",
       "    .dataframe thead th {\n",
       "        text-align: right;\n",
       "    }\n",
       "</style>\n",
       "<table border=\"1\" class=\"dataframe\">\n",
       "  <thead>\n",
       "    <tr style=\"text-align: right;\">\n",
       "      <th></th>\n",
       "      <th>0</th>\n",
       "      <th>1</th>\n",
       "      <th>2</th>\n",
       "    </tr>\n",
       "  </thead>\n",
       "  <tbody>\n",
       "    <tr>\n",
       "      <th>0</th>\n",
       "      <td>02/01/2016</td>\n",
       "      <td>937,67</td>\n",
       "      <td>27,8</td>\n",
       "    </tr>\n",
       "    <tr>\n",
       "      <th>1</th>\n",
       "      <td>09/01/2016</td>\n",
       "      <td>1009,05</td>\n",
       "      <td>20,64</td>\n",
       "    </tr>\n",
       "    <tr>\n",
       "      <th>2</th>\n",
       "      <td>16/01/2016</td>\n",
       "      <td>840,08</td>\n",
       "      <td>12,6</td>\n",
       "    </tr>\n",
       "    <tr>\n",
       "      <th>3</th>\n",
       "      <td>23/01/2016</td>\n",
       "      <td>839,19</td>\n",
       "      <td>9,66</td>\n",
       "    </tr>\n",
       "    <tr>\n",
       "      <th>4</th>\n",
       "      <td>30/01/2016</td>\n",
       "      <td>764,1</td>\n",
       "      <td>6,07</td>\n",
       "    </tr>\n",
       "  </tbody>\n",
       "</table>\n",
       "</div>"
      ],
      "text/plain": [
       "            0        1      2\n",
       "0  02/01/2016   937,67   27,8\n",
       "1  09/01/2016  1009,05  20,64\n",
       "2  16/01/2016   840,08   12,6\n",
       "3  23/01/2016   839,19   9,66\n",
       "4  30/01/2016    764,1   6,07"
      ]
     },
     "execution_count": 3,
     "metadata": {},
     "output_type": "execute_result"
    }
   ],
   "source": [
    "dataset.head()"
   ]
  },
  {
   "cell_type": "markdown",
   "metadata": {},
   "source": [
    "### Visualizando a informação do dataframe: "
   ]
  },
  {
   "cell_type": "code",
   "execution_count": 4,
   "metadata": {},
   "outputs": [
    {
     "name": "stdout",
     "output_type": "stream",
     "text": [
      "<class 'pandas.core.frame.DataFrame'>\n",
      "RangeIndex: 269 entries, 0 to 268\n",
      "Data columns (total 3 columns):\n",
      " #   Column  Non-Null Count  Dtype \n",
      "---  ------  --------------  ----- \n",
      " 0   0       269 non-null    object\n",
      " 1   1       269 non-null    object\n",
      " 2   2       269 non-null    object\n",
      "dtypes: object(3)\n",
      "memory usage: 6.4+ KB\n"
     ]
    }
   ],
   "source": [
    "dataset.info()\n"
   ]
  },
  {
   "cell_type": "code",
   "execution_count": 5,
   "metadata": {},
   "outputs": [
    {
     "data": {
      "text/html": [
       "<div>\n",
       "<style scoped>\n",
       "    .dataframe tbody tr th:only-of-type {\n",
       "        vertical-align: middle;\n",
       "    }\n",
       "\n",
       "    .dataframe tbody tr th {\n",
       "        vertical-align: top;\n",
       "    }\n",
       "\n",
       "    .dataframe thead th {\n",
       "        text-align: right;\n",
       "    }\n",
       "</style>\n",
       "<table border=\"1\" class=\"dataframe\">\n",
       "  <thead>\n",
       "    <tr style=\"text-align: right;\">\n",
       "      <th></th>\n",
       "      <th>0</th>\n",
       "      <th>1</th>\n",
       "      <th>2</th>\n",
       "    </tr>\n",
       "  </thead>\n",
       "  <tbody>\n",
       "    <tr>\n",
       "      <th>count</th>\n",
       "      <td>269</td>\n",
       "      <td>269</td>\n",
       "      <td>269</td>\n",
       "    </tr>\n",
       "    <tr>\n",
       "      <th>unique</th>\n",
       "      <td>269</td>\n",
       "      <td>269</td>\n",
       "      <td>263</td>\n",
       "    </tr>\n",
       "    <tr>\n",
       "      <th>top</th>\n",
       "      <td>02/09/2017</td>\n",
       "      <td>420,73</td>\n",
       "      <td>0</td>\n",
       "    </tr>\n",
       "    <tr>\n",
       "      <th>freq</th>\n",
       "      <td>1</td>\n",
       "      <td>1</td>\n",
       "      <td>5</td>\n",
       "    </tr>\n",
       "  </tbody>\n",
       "</table>\n",
       "</div>"
      ],
      "text/plain": [
       "                 0       1    2\n",
       "count          269     269  269\n",
       "unique         269     269  263\n",
       "top     02/09/2017  420,73    0\n",
       "freq             1       1    5"
      ]
     },
     "execution_count": 5,
     "metadata": {},
     "output_type": "execute_result"
    }
   ],
   "source": [
    "dataset.describe()"
   ]
  },
  {
   "cell_type": "markdown",
   "metadata": {},
   "source": [
    "### Inserindo os nomes das colunas"
   ]
  },
  {
   "cell_type": "code",
   "execution_count": 6,
   "metadata": {},
   "outputs": [],
   "source": [
    "dataset.columns = [\"Semana Operativa\", \"Ger_Term\", \"cmo\"]"
   ]
  },
  {
   "cell_type": "code",
   "execution_count": 7,
   "metadata": {},
   "outputs": [
    {
     "data": {
      "text/html": [
       "<div>\n",
       "<style scoped>\n",
       "    .dataframe tbody tr th:only-of-type {\n",
       "        vertical-align: middle;\n",
       "    }\n",
       "\n",
       "    .dataframe tbody tr th {\n",
       "        vertical-align: top;\n",
       "    }\n",
       "\n",
       "    .dataframe thead th {\n",
       "        text-align: right;\n",
       "    }\n",
       "</style>\n",
       "<table border=\"1\" class=\"dataframe\">\n",
       "  <thead>\n",
       "    <tr style=\"text-align: right;\">\n",
       "      <th></th>\n",
       "      <th>Semana Operativa</th>\n",
       "      <th>Ger_Term</th>\n",
       "      <th>cmo</th>\n",
       "    </tr>\n",
       "  </thead>\n",
       "  <tbody>\n",
       "    <tr>\n",
       "      <th>0</th>\n",
       "      <td>02/01/2016</td>\n",
       "      <td>937,67</td>\n",
       "      <td>27,8</td>\n",
       "    </tr>\n",
       "    <tr>\n",
       "      <th>1</th>\n",
       "      <td>09/01/2016</td>\n",
       "      <td>1009,05</td>\n",
       "      <td>20,64</td>\n",
       "    </tr>\n",
       "    <tr>\n",
       "      <th>2</th>\n",
       "      <td>16/01/2016</td>\n",
       "      <td>840,08</td>\n",
       "      <td>12,6</td>\n",
       "    </tr>\n",
       "    <tr>\n",
       "      <th>3</th>\n",
       "      <td>23/01/2016</td>\n",
       "      <td>839,19</td>\n",
       "      <td>9,66</td>\n",
       "    </tr>\n",
       "    <tr>\n",
       "      <th>4</th>\n",
       "      <td>30/01/2016</td>\n",
       "      <td>764,1</td>\n",
       "      <td>6,07</td>\n",
       "    </tr>\n",
       "  </tbody>\n",
       "</table>\n",
       "</div>"
      ],
      "text/plain": [
       "  Semana Operativa Ger_Term    cmo\n",
       "0       02/01/2016   937,67   27,8\n",
       "1       09/01/2016  1009,05  20,64\n",
       "2       16/01/2016   840,08   12,6\n",
       "3       23/01/2016   839,19   9,66\n",
       "4       30/01/2016    764,1   6,07"
      ]
     },
     "execution_count": 7,
     "metadata": {},
     "output_type": "execute_result"
    }
   ],
   "source": [
    "dataset.head()"
   ]
  },
  {
   "cell_type": "markdown",
   "metadata": {},
   "source": [
    "### Tratando os dados / Formatando"
   ]
  },
  {
   "cell_type": "code",
   "execution_count": 8,
   "metadata": {},
   "outputs": [],
   "source": [
    "dataset['Ger_Term'] = dataset['Ger_Term'].str.replace(',', '.').astype(float)\n"
   ]
  },
  {
   "cell_type": "code",
   "execution_count": 9,
   "metadata": {},
   "outputs": [],
   "source": [
    "dataset['cmo'] = dataset['cmo'].str.replace(',', '.').astype(float)"
   ]
  },
  {
   "cell_type": "code",
   "execution_count": 10,
   "metadata": {},
   "outputs": [
    {
     "data": {
      "text/html": [
       "<div>\n",
       "<style scoped>\n",
       "    .dataframe tbody tr th:only-of-type {\n",
       "        vertical-align: middle;\n",
       "    }\n",
       "\n",
       "    .dataframe tbody tr th {\n",
       "        vertical-align: top;\n",
       "    }\n",
       "\n",
       "    .dataframe thead th {\n",
       "        text-align: right;\n",
       "    }\n",
       "</style>\n",
       "<table border=\"1\" class=\"dataframe\">\n",
       "  <thead>\n",
       "    <tr style=\"text-align: right;\">\n",
       "      <th></th>\n",
       "      <th>Semana Operativa</th>\n",
       "      <th>Ger_Term</th>\n",
       "      <th>cmo</th>\n",
       "    </tr>\n",
       "  </thead>\n",
       "  <tbody>\n",
       "    <tr>\n",
       "      <th>0</th>\n",
       "      <td>02/01/2016</td>\n",
       "      <td>937.67</td>\n",
       "      <td>27.80</td>\n",
       "    </tr>\n",
       "    <tr>\n",
       "      <th>1</th>\n",
       "      <td>09/01/2016</td>\n",
       "      <td>1009.05</td>\n",
       "      <td>20.64</td>\n",
       "    </tr>\n",
       "    <tr>\n",
       "      <th>2</th>\n",
       "      <td>16/01/2016</td>\n",
       "      <td>840.08</td>\n",
       "      <td>12.60</td>\n",
       "    </tr>\n",
       "    <tr>\n",
       "      <th>3</th>\n",
       "      <td>23/01/2016</td>\n",
       "      <td>839.19</td>\n",
       "      <td>9.66</td>\n",
       "    </tr>\n",
       "    <tr>\n",
       "      <th>4</th>\n",
       "      <td>30/01/2016</td>\n",
       "      <td>764.10</td>\n",
       "      <td>6.07</td>\n",
       "    </tr>\n",
       "  </tbody>\n",
       "</table>\n",
       "</div>"
      ],
      "text/plain": [
       "  Semana Operativa  Ger_Term    cmo\n",
       "0       02/01/2016    937.67  27.80\n",
       "1       09/01/2016   1009.05  20.64\n",
       "2       16/01/2016    840.08  12.60\n",
       "3       23/01/2016    839.19   9.66\n",
       "4       30/01/2016    764.10   6.07"
      ]
     },
     "execution_count": 10,
     "metadata": {},
     "output_type": "execute_result"
    }
   ],
   "source": [
    "dataset.head()"
   ]
  },
  {
   "cell_type": "code",
   "execution_count": 11,
   "metadata": {},
   "outputs": [],
   "source": [
    "from sklearn.preprocessing import StandardScaler\n",
    "X = dataset.iloc[:, 1:2].values\n",
    "y = dataset.iloc[:, 2:3].values\n",
    "scaler = StandardScaler()\n",
    "X_norm = scaler.fit(X)\n",
    "X_norm = scaler.transform(X)\n",
    "y_norm = scaler.fit(y)\n",
    "y_norm = scaler.transform(y)"
   ]
  },
  {
   "cell_type": "markdown",
   "metadata": {},
   "source": [
    "## Medindo a correlação entre as váriaveis\n"
   ]
  },
  {
   "cell_type": "code",
   "execution_count": 12,
   "metadata": {},
   "outputs": [
    {
     "data": {
      "image/png": "[encoded data removed]",
      "text/plain": [
       "<Figure size 504x360 with 1 Axes>"
      ]
     },
     "metadata": {
      "needs_background": "light"
     },
     "output_type": "display_data"
    }
   ],
   "source": [
    "corr = dataset.corr()\n",
    "plt.figure(figsize=(7,5))\n",
    "plt.imshow(corr, cmap= 'Blues', interpolation='none', aspect= 'auto')\n",
    "plt.colorbar\n",
    "plt.xticks(range(len(corr)), corr.columns, rotation= 'vertical')\n",
    "plt.yticks(range(len(corr)), corr.columns);\n",
    "plt.suptitle('Correlação entre variáveis', fontsize = 15, fontweight = 'bold')\n",
    "plt.grid(False)\n",
    "plt.show()"
   ]
  },
  {
   "cell_type": "markdown",
   "metadata": {},
   "source": [
    "### Na tabela acima pode-se inferir que a correlação entre as variáveis, em todo o dataset, é muito fraca."
   ]
  },
  {
   "cell_type": "code",
   "execution_count": 13,
   "metadata": {},
   "outputs": [
    {
     "data": {
      "text/plain": [
       "Text(0.95, 0.95, 'média = 229.93\\nmáximo = 1419.80')"
      ]
     },
     "execution_count": 13,
     "metadata": {},
     "output_type": "execute_result"
    },
    {
     "data": {
      "image/png": "[encoded data removed]",
      "text/plain": [
       "<Figure size 432x288 with 1 Axes>"
      ]
     },
     "metadata": {
      "needs_background": "light"
     },
     "output_type": "display_data"
    }
   ],
   "source": [
    "import matplotlib.pyplot as plt\n",
    "plt.hist(dataset['cmo'], bins= 10 ) \n",
    "#dataset['cmo'].hist(bins =10)\n",
    "plt.xlim([min(dataset['cmo'])-5, max(dataset['cmo'])+5])\n",
    "ax = plt.gca()\n",
    "text = 'média = %.2f\\nmáximo = %.2f' % (dataset['cmo'].mean(), max(dataset['cmo']))\n",
    "plt.text(0.95, 0.95, text, horizontalalignment='right', verticalalignment='top', transform=ax.transAxes)"
   ]
  },
  {
   "cell_type": "code",
   "execution_count": 14,
   "metadata": {},
   "outputs": [
    {
     "data": {
      "text/plain": [
       "Text(0.95, 0.95, 'média = 745.47\\nmáximo = 1268.16')"
      ]
     },
     "execution_count": 14,
     "metadata": {},
     "output_type": "execute_result"
    },
    {
     "data": {
      "image/png": "[encoded data removed]",
      "text/plain": [
       "<Figure size 432x288 with 1 Axes>"
      ]
     },
     "metadata": {
      "needs_background": "light"
     },
     "output_type": "display_data"
    }
   ],
   "source": [
    "import matplotlib.pyplot as plt\n",
    "plt.hist(dataset['Ger_Term'], bins= 20 ) \n",
    "#dataset['cmo'].hist(bins =10)\n",
    "plt.xlim([min(dataset['Ger_Term'])-5, max(dataset['Ger_Term'])+5])\n",
    "ax = plt.gca()\n",
    "text = 'média = %.2f\\nmáximo = %.2f' % (dataset['Ger_Term'].mean(), max(dataset['Ger_Term']))\n",
    "plt.text(0.95, 0.95, text, horizontalalignment='right', verticalalignment='top', transform=ax.transAxes)"
   ]
  },
  {
   "cell_type": "markdown",
   "metadata": {},
   "source": [
    "### A seguir encontramos a semana e o valor do Custo Marginal de Operação para o maior valor de geração termoelétrica "
   ]
  },
  {
   "cell_type": "code",
   "execution_count": 15,
   "metadata": {},
   "outputs": [
    {
     "data": {
      "text/html": [
       "<div>\n",
       "<style scoped>\n",
       "    .dataframe tbody tr th:only-of-type {\n",
       "        vertical-align: middle;\n",
       "    }\n",
       "\n",
       "    .dataframe tbody tr th {\n",
       "        vertical-align: top;\n",
       "    }\n",
       "\n",
       "    .dataframe thead th {\n",
       "        text-align: right;\n",
       "    }\n",
       "</style>\n",
       "<table border=\"1\" class=\"dataframe\">\n",
       "  <thead>\n",
       "    <tr style=\"text-align: right;\">\n",
       "      <th></th>\n",
       "      <th>Semana Operativa</th>\n",
       "      <th>Ger_Term</th>\n",
       "      <th>cmo</th>\n",
       "    </tr>\n",
       "  </thead>\n",
       "  <tbody>\n",
       "    <tr>\n",
       "      <th>89</th>\n",
       "      <td>16/09/2017</td>\n",
       "      <td>1268.16</td>\n",
       "      <td>599.9</td>\n",
       "    </tr>\n",
       "  </tbody>\n",
       "</table>\n",
       "</div>"
      ],
      "text/plain": [
       "   Semana Operativa  Ger_Term    cmo\n",
       "89       16/09/2017   1268.16  599.9"
      ]
     },
     "execution_count": 15,
     "metadata": {},
     "output_type": "execute_result"
    }
   ],
   "source": [
    "dataset[dataset['Ger_Term'] == max(dataset['Ger_Term'])]"
   ]
  },
  {
   "cell_type": "markdown",
   "metadata": {},
   "source": [
    "### A seguir encontramos a semana e o valor de GW de geração termoelétrica para o maior  valor do Custo Marginal de Operação"
   ]
  },
  {
   "cell_type": "code",
   "execution_count": 16,
   "metadata": {},
   "outputs": [
    {
     "data": {
      "text/html": [
       "<div>\n",
       "<style scoped>\n",
       "    .dataframe tbody tr th:only-of-type {\n",
       "        vertical-align: middle;\n",
       "    }\n",
       "\n",
       "    .dataframe tbody tr th {\n",
       "        vertical-align: top;\n",
       "    }\n",
       "\n",
       "    .dataframe thead th {\n",
       "        text-align: right;\n",
       "    }\n",
       "</style>\n",
       "<table border=\"1\" class=\"dataframe\">\n",
       "  <thead>\n",
       "    <tr style=\"text-align: right;\">\n",
       "      <th></th>\n",
       "      <th>Semana Operativa</th>\n",
       "      <th>Ger_Term</th>\n",
       "      <th>cmo</th>\n",
       "    </tr>\n",
       "  </thead>\n",
       "  <tbody>\n",
       "    <tr>\n",
       "      <th>92</th>\n",
       "      <td>07/10/2017</td>\n",
       "      <td>1234.28</td>\n",
       "      <td>1419.8</td>\n",
       "    </tr>\n",
       "  </tbody>\n",
       "</table>\n",
       "</div>"
      ],
      "text/plain": [
       "   Semana Operativa  Ger_Term     cmo\n",
       "92       07/10/2017   1234.28  1419.8"
      ]
     },
     "execution_count": 16,
     "metadata": {},
     "output_type": "execute_result"
    }
   ],
   "source": [
    "dataset[dataset['cmo'] == max(dataset['cmo'])]"
   ]
  },
  {
   "cell_type": "markdown",
   "metadata": {},
   "source": [
    "### A seguir encontramos os valores do custo marginal de operação menores que a média do CMO para o período"
   ]
  },
  {
   "cell_type": "code",
   "execution_count": 17,
   "metadata": {},
   "outputs": [
    {
     "data": {
      "text/plain": [
       "Semana Operativa    92\n",
       "Ger_Term            92\n",
       "cmo                 92\n",
       "dtype: int64"
      ]
     },
     "execution_count": 17,
     "metadata": {},
     "output_type": "execute_result"
    }
   ],
   "source": [
    "dataset[dataset['cmo'] >= (dataset['cmo'].mean())].count()"
   ]
  },
  {
   "cell_type": "markdown",
   "metadata": {},
   "source": [
    "### Apresentamos o gráfico de frequência das amostras sendo ajustados por uma curva normal"
   ]
  },
  {
   "cell_type": "code",
   "execution_count": 18,
   "metadata": {},
   "outputs": [
    {
     "data": {
      "image/png": "[encoded data removed]",
      "text/plain": [
       "<Figure size 432x288 with 1 Axes>"
      ]
     },
     "metadata": {
      "needs_background": "light"
     },
     "output_type": "display_data"
    }
   ],
   "source": [
    "import seaborn as sns\n",
    "ax = sns.distplot(dataset['Ger_Term'], color = 'r')"
   ]
  },
  {
   "cell_type": "code",
   "execution_count": 19,
   "metadata": {},
   "outputs": [
    {
     "data": {
      "image/png": "[encoded data removed]",
      "text/plain": [
       "<Figure size 432x288 with 1 Axes>"
      ]
     },
     "metadata": {
      "needs_background": "light"
     },
     "output_type": "display_data"
    }
   ],
   "source": [
    "ax = sns.distplot(dataset['cmo'], color = 'g')"
   ]
  },
  {
   "cell_type": "markdown",
   "metadata": {},
   "source": [
    "## A seguir mostraremos ao autocorrelação das variáveis do dataset\n",
    "### Definiu-se um lag de 60 semanas operativas"
   ]
  },
  {
   "cell_type": "code",
   "execution_count": 20,
   "metadata": {},
   "outputs": [
    {
     "data": {
      "image/png": "[encoded data removed]",
      "text/plain": [
       "<Figure size 864x576 with 2 Axes>"
      ]
     },
     "metadata": {
      "needs_background": "light"
     },
     "output_type": "display_data"
    }
   ],
   "source": [
    "import statsmodels.api as sm\n",
    "fig = plt.figure(figsize=(12,8))\n",
    "ax1 = fig.add_subplot(211)\n",
    "fig = sm.graphics.tsa.plot_acf(dataset['Ger_Term'].values.squeeze(), lags=60, ax=ax1)\n",
    "ax2 = fig.add_subplot(212)\n",
    "fig = sm.graphics.tsa.plot_pacf(dataset[ 'cmo'].values, lags=60, ax=ax2)"
   ]
  },
  {
   "cell_type": "markdown",
   "metadata": {},
   "source": [
    "### Note que há uma forte correlação entre os dados nas semanas iniciais."
   ]
  },
  {
   "cell_type": "markdown",
   "metadata": {},
   "source": [
    "## Correlação de Spearman x Pearson\n",
    "### O objetivo de observar essa correlação é procurar por uma correlação de linearidade nos dados"
   ]
  },
  {
   "cell_type": "code",
   "execution_count": 21,
   "metadata": {},
   "outputs": [
    {
     "data": {
      "image/png": "[encoded data removed]",
      "text/plain": [
       "<Figure size 1152x720 with 1 Axes>"
      ]
     },
     "metadata": {
      "needs_background": "light"
     },
     "output_type": "display_data"
    }
   ],
   "source": [
    "plt.figure(figsize = (16,10))\n",
    "plt.plot(dataset['cmo'][0:7], dataset['cmo'][7:14])\n",
    "plt.xlabel(\"Custo Marginal da Operação - 40 Primeiras Semanas\", fontsize = 20)\n",
    "plt.ylabel(\"Custo Marginal da Operação - 40 Semanas A Frente\", fontsize = 20)\n",
    "corr, p_value = pearsonr(dataset['cmo'][0:7].values, dataset['cmo'][7:14].values)\n",
    "corrs, p_values = spearmanr(dataset['cmo'][0:7].values, dataset['cmo'][7:14].values)\n",
    "corr = int(corr*100)/100\n",
    "corrs = int(corr*100)/100\n",
    "\n",
    "string = 'Pearson corr. = ' +str(corr)\n",
    "plt.text(35,1, string, fontsize= 15)\n",
    "\n",
    "string = 'Spearman corr. = ' +str(corrs)\n",
    "plt.text(35,35, string, fontsize= 15)\n",
    "plt.show()"
   ]
  },
  {
   "cell_type": "code",
   "execution_count": 22,
   "metadata": {},
   "outputs": [
    {
     "data": {
      "image/png": "[encoded data removed]",
      "text/plain": [
       "<Figure size 1152x720 with 1 Axes>"
      ]
     },
     "metadata": {
      "needs_background": "light"
     },
     "output_type": "display_data"
    }
   ],
   "source": [
    "plt.figure(figsize = (16,10))\n",
    "plt.plot(dataset['cmo'][0:29], dataset['cmo'][29:58])\n",
    "plt.xlabel(\"Custo Marginal da Operação - 29 Primeiras Semanas\", fontsize = 20)\n",
    "plt.ylabel(\"Custo Marginal da Operação - 29 Semanas A Frente\", fontsize = 20)\n",
    "corr, p_value = pearsonr(dataset['cmo'][0:29].values, dataset['cmo'][29:58].values)\n",
    "corrs, p_values = spearmanr(dataset['cmo'][0:29].values, dataset['cmo'][29:58].values)\n",
    "corr = int(corr*100)/100\n",
    "corrs = int(corr*100)/100\n",
    "\n",
    "string = 'Pearson corr. = ' +str(corr)\n",
    "plt.text(45,1, string, fontsize= 15)\n",
    "\n",
    "string = 'Spearman corr. = ' +str(corrs)\n",
    "plt.text(15,1, string, fontsize= 15)\n",
    "plt.show()"
   ]
  },
  {
   "cell_type": "markdown",
   "metadata": {},
   "source": [
    "### > Observamos que a coeficiente de pearson demonstra que não há uma correlação linear entre o cmo das diferentes semanas operativas observadas, porém pode-se inferir um aumento no coeficiente de Pearson quando comparamos um número menor de semanas operativas. Isto porque o coeficiente reflete a correlação com mais propriedade, pois os fenômenos que causam maior impacto na variação do CMO ficam menos parecidos conforme a progressão temporal."
   ]
  },
  {
   "cell_type": "markdown",
   "metadata": {},
   "source": [
    "### Separando as variáveis  "
   ]
  },
  {
   "cell_type": "markdown",
   "metadata": {},
   "source": [
    "### Criando a função de erro:"
   ]
  },
  {
   "cell_type": "code",
   "execution_count": 23,
   "metadata": {},
   "outputs": [],
   "source": [
    "def rmse(ytrue,ypred):\n",
    "    return np.sqrt(mean_squared_error(ytrue, ypred))"
   ]
  },
  {
   "cell_type": "markdown",
   "metadata": {},
   "source": [
    "### Criando o modelo preditivo"
   ]
  },
  {
   "cell_type": "code",
   "execution_count": 24,
   "metadata": {},
   "outputs": [],
   "source": [
    "from sklearn.model_selection import train_test_split\n",
    "X_train, X_test, y_train, y_test = train_test_split(X_norm, y_norm, test_size = 0.2, random_state = 0)"
   ]
  },
  {
   "cell_type": "code",
   "execution_count": 25,
   "metadata": {},
   "outputs": [
    {
     "data": {
      "text/plain": [
       "LinearRegression()"
      ]
     },
     "execution_count": 25,
     "metadata": {},
     "output_type": "execute_result"
    }
   ],
   "source": [
    "from sklearn.linear_model import LinearRegression\n",
    "regressor = LinearRegression()\n",
    "regressor.fit(X_train, y_train)\n"
   ]
  },
  {
   "cell_type": "markdown",
   "metadata": {},
   "source": [
    "### Plotando os valores de Y_pred - Y_test"
   ]
  },
  {
   "cell_type": "code",
   "execution_count": 26,
   "metadata": {},
   "outputs": [
    {
     "name": "stdout",
     "output_type": "stream",
     "text": [
      "[[ 1.17e+00  6.91e-01]\n",
      " [-7.66e-01 -2.16e-01]\n",
      " [ 4.47e-02  1.19e+00]\n",
      " [-3.37e-01 -8.02e-01]\n",
      " [-7.50e-01 -1.15e+00]\n",
      " [-8.83e-01 -3.63e-01]\n",
      " [-1.09e-01 -2.89e-01]\n",
      " [-4.11e-01 -5.38e-01]\n",
      " [-3.76e-01 -9.63e-01]\n",
      " [-3.74e-01 -1.14e+00]\n",
      " [ 1.66e-01  2.67e+00]\n",
      " [ 1.26e+00  2.00e+00]\n",
      " [-9.14e-01 -2.90e-01]\n",
      " [ 7.95e-01  1.64e-01]\n",
      " [-1.55e-01  1.87e-01]\n",
      " [-5.32e-01 -6.93e-01]\n",
      " [-4.71e-01 -1.59e-02]\n",
      " [-2.98e-01 -2.28e-01]\n",
      " [ 1.59e+00  1.85e+00]\n",
      " [-6.28e-02 -1.29e-01]\n",
      " [-4.29e-01 -1.15e+00]\n",
      " [ 2.74e-01  1.87e+00]\n",
      " [-6.75e-01 -6.02e-01]\n",
      " [-3.67e-01 -6.35e-01]\n",
      " [ 4.84e-01 -4.85e-02]\n",
      " [-2.44e-01 -7.49e-01]\n",
      " [-6.24e-01 -1.15e+00]\n",
      " [-5.03e-01 -6.28e-01]\n",
      " [-2.66e-01 -7.35e-02]\n",
      " [-8.06e-01 -1.15e+00]\n",
      " [ 1.42e-01 -1.15e+00]\n",
      " [-7.97e-01 -4.45e-01]\n",
      " [ 8.55e-01 -1.62e-03]\n",
      " [-5.52e-01 -1.54e-01]\n",
      " [ 8.02e-01 -2.77e-02]\n",
      " [-9.69e-01 -6.66e-01]\n",
      " [ 1.28e+00  1.42e+00]\n",
      " [ 4.34e-01  2.19e-01]\n",
      " [-5.41e-01 -8.80e-01]\n",
      " [-3.20e-01 -3.97e-01]\n",
      " [ 6.43e-01  3.97e-01]\n",
      " [-7.05e-01 -4.22e-01]\n",
      " [ 3.41e-01 -5.08e-01]\n",
      " [-4.50e-01  1.43e-01]\n",
      " [ 3.93e-01  2.87e-01]\n",
      " [-3.05e-01 -8.81e-01]\n",
      " [ 4.52e-01  1.61e-01]\n",
      " [-1.17e+00 -4.53e-01]\n",
      " [ 3.22e-01  4.17e-02]\n",
      " [-8.42e-01 -7.42e-01]\n",
      " [ 1.21e-01  4.68e-01]\n",
      " [ 2.48e-01 -1.14e+00]\n",
      " [ 1.77e-01 -9.50e-01]\n",
      " [ 5.04e-01  6.60e-01]]\n"
     ]
    }
   ],
   "source": [
    "y_pred = regressor.predict(X_test)\n",
    "np.set_printoptions(precision=2)\n",
    "print(np.concatenate((y_pred.reshape(len(y_pred),1), y_test.reshape(len(y_test),1)),1))"
   ]
  },
  {
   "cell_type": "code",
   "execution_count": 27,
   "metadata": {
    "scrolled": true
   },
   "outputs": [
    {
     "data": {
      "text/plain": [
       "(54,)"
      ]
     },
     "execution_count": 27,
     "metadata": {},
     "output_type": "execute_result"
    }
   ],
   "source": [
    "y_pred = y_pred.reshape(len(y_pred),)\n",
    "y_pred.shape"
   ]
  },
  {
   "cell_type": "markdown",
   "metadata": {},
   "source": [
    "## Estabelecendo as métricas para encontrar os erros"
   ]
  },
  {
   "cell_type": "markdown",
   "metadata": {},
   "source": [
    "### Calculando o erro quadrático médio RMSE: "
   ]
  },
  {
   "cell_type": "code",
   "execution_count": 28,
   "metadata": {},
   "outputs": [
    {
     "name": "stdout",
     "output_type": "stream",
     "text": [
      "Mean Error =  0.67899\n"
     ]
    }
   ],
   "source": [
    "p = y_pred\n",
    "error = rmse(y_test, p) \n",
    "print('Mean Error = % .5f' % np.mean(error))\n"
   ]
  },
  {
   "cell_type": "markdown",
   "metadata": {},
   "source": [
    "### MAE - MEAN ABSOLUTE ERROR - ERRO MÉDIO ABSOLUTO \n",
    "#### minimizador = mediana / menos preocupado com outliers"
   ]
  },
  {
   "cell_type": "code",
   "execution_count": 29,
   "metadata": {},
   "outputs": [
    {
     "name": "stdout",
     "output_type": "stream",
     "text": [
      "Mean Error =  0.51542\n"
     ]
    }
   ],
   "source": [
    "from sklearn.metrics import mean_absolute_error\n",
    "mae = mean_absolute_error(y_test, p)\n",
    "print('Mean Error = % .5f' % np.mean(mae))"
   ]
  },
  {
   "cell_type": "markdown",
   "metadata": {},
   "source": [
    "### Analisando o gráfico do comportamento do CMO com o despacho de termoelétricas "
   ]
  },
  {
   "cell_type": "code",
   "execution_count": 30,
   "metadata": {},
   "outputs": [
    {
     "data": {
      "image/png": "[encoded data removed]",
      "text/plain": [
       "<Figure size 432x288 with 1 Axes>"
      ]
     },
     "metadata": {
      "needs_background": "light"
     },
     "output_type": "display_data"
    }
   ],
   "source": [
    "plt.scatter(X_norm, y_norm, color = 'red')\n",
    "plt.plot(X_test, y_pred, color = 'blue')\n",
    "plt.title('Geração Term x CMO (Linear Regression)')\n",
    "plt.xlabel('Geração Térmica')\n",
    "plt.ylabel('CMO/(R$/MWh)')\n",
    "plt.show()"
   ]
  },
  {
   "cell_type": "code",
   "execution_count": 31,
   "metadata": {},
   "outputs": [
    {
     "data": {
      "text/plain": [
       "array([[486.27]])"
      ]
     },
     "execution_count": 31,
     "metadata": {},
     "output_type": "execute_result"
    }
   ],
   "source": [
    "regressor.predict([[707]])"
   ]
  },
  {
   "cell_type": "markdown",
   "metadata": {},
   "source": [
    "#### O valor do cmo correpondente a semana operativa em questão corresponde a 175,74 reais"
   ]
  },
  {
   "cell_type": "markdown",
   "metadata": {},
   "source": [
    "# Modelo de Regressão Não-Linear \n",
    "## Treinando o modelo de Regressão Polinomial em Todo o Dataset"
   ]
  },
  {
   "cell_type": "code",
   "execution_count": 32,
   "metadata": {},
   "outputs": [
    {
     "data": {
      "text/plain": [
       "LinearRegression()"
      ]
     },
     "execution_count": 32,
     "metadata": {},
     "output_type": "execute_result"
    }
   ],
   "source": [
    "from sklearn.preprocessing import PolynomialFeatures\n",
    "poly_reg = PolynomialFeatures(degree = 4)\n",
    "X_poly = poly_reg.fit_transform(X_norm)\n",
    "lin_reg_2 = LinearRegression()\n",
    "lin_reg_2.fit(X_poly, y_norm) "
   ]
  },
  {
   "cell_type": "code",
   "execution_count": 33,
   "metadata": {},
   "outputs": [],
   "source": [
    "\n",
    "y_pred_poly = lin_reg_2.predict( poly_reg.fit_transform(X_norm))\n"
   ]
  },
  {
   "cell_type": "code",
   "execution_count": 34,
   "metadata": {},
   "outputs": [
    {
     "name": "stdout",
     "output_type": "stream",
     "text": [
      "Mean Error =  0.71174\n"
     ]
    }
   ],
   "source": [
    "p_poly = y_pred_poly\n",
    "\n",
    "error = rmse(y_norm, p_poly) \n",
    "print('Mean Error = % .5f' % np.mean(error))"
   ]
  },
  {
   "cell_type": "code",
   "execution_count": 35,
   "metadata": {},
   "outputs": [
    {
     "name": "stdout",
     "output_type": "stream",
     "text": [
      "Mean Error =  0.49953\n"
     ]
    }
   ],
   "source": [
    "from sklearn.metrics import mean_absolute_error\n",
    "mae_poly = mean_absolute_error(y_norm, p_poly)\n",
    "print('Mean Error = % .5f' % np.mean(mae_poly))"
   ]
  },
  {
   "cell_type": "code",
   "execution_count": 36,
   "metadata": {},
   "outputs": [
    {
     "data": {
      "text/plain": [
       "array([[185.34]])"
      ]
     },
     "execution_count": 36,
     "metadata": {},
     "output_type": "execute_result"
    }
   ],
   "source": [
    "scaler.inverse_transform(lin_reg_2.predict(poly_reg.fit_transform([[(707-dataset['Ger_Term'].mean())/dataset['Ger_Term'].std()]])))"
   ]
  },
  {
   "cell_type": "markdown",
   "metadata": {},
   "source": [
    "#### O valor do cmo correpondente a semana operativa em questão corresponde a 175,74 reais"
   ]
  },
  {
   "cell_type": "markdown",
   "metadata": {},
   "source": [
    "## Visualizando os Resultados da Regressão Polinomial"
   ]
  },
  {
   "cell_type": "code",
   "execution_count": 37,
   "metadata": {},
   "outputs": [
    {
     "data": {
      "image/png": "[encoded data removed]",
      "text/plain": [
       "<Figure size 432x288 with 1 Axes>"
      ]
     },
     "metadata": {
      "needs_background": "light"
     },
     "output_type": "display_data"
    }
   ],
   "source": [
    "plt.scatter(X_norm, y_norm, color = 'red')\n",
    "plt.plot(X_norm, lin_reg_2.predict(poly_reg.fit_transform(X_norm)), color = 'blue')\n",
    "plt.title('Geração Term x CMO (Polynomial Regression)')\n",
    "plt.xlabel('Geração Térmica')\n",
    "plt.ylabel('CMO/(R$/MWh)')\n",
    "plt.show()"
   ]
  },
  {
   "cell_type": "markdown",
   "metadata": {},
   "source": [
    "## Visualizando os resultados da Regressão Polinomial ( para maior resolução e smooth da curva\n"
   ]
  },
  {
   "cell_type": "code",
   "execution_count": 38,
   "metadata": {},
   "outputs": [
    {
     "data": {
      "image/png": "[encoded data removed]",
      "text/plain": [
       "<Figure size 432x288 with 1 Axes>"
      ]
     },
     "metadata": {
      "needs_background": "light"
     },
     "output_type": "display_data"
    }
   ],
   "source": [
    "X_grid = np.arange(min(X_norm), max(X_norm), 0.1)\n",
    "X_grid = X_grid.reshape((len(X_grid), 1))\n",
    "plt.scatter(X_norm, y_norm, color = 'red')\n",
    "plt.plot(X_grid, lin_reg_2.predict(poly_reg.fit_transform(X_grid)), color = 'blue')\n",
    "plt.title('Geração Term x CMO (Polynomial Regression)')\n",
    "plt.xlabel('Geração Térmica')\n",
    "plt.ylabel('CMO/(R$/MWh)')\n",
    "plt.show()"
   ]
  },
  {
   "cell_type": "code",
   "execution_count": 39,
   "metadata": {},
   "outputs": [],
   "source": [
    "res = scaler.inverse_transform(lin_reg_2.predict(poly_reg.fit_transform(X_grid)))"
   ]
  },
  {
   "cell_type": "code",
   "execution_count": 40,
   "metadata": {},
   "outputs": [
    {
     "data": {
      "text/plain": [
       "array([[153.41],\n",
       "       [133.01],\n",
       "       [117.4 ],\n",
       "       [106.1 ],\n",
       "       [ 98.65],\n",
       "       [ 94.6 ],\n",
       "       [ 93.54],\n",
       "       [ 95.09],\n",
       "       [ 98.89],\n",
       "       [104.61],\n",
       "       [111.94],\n",
       "       [120.61],\n",
       "       [130.36],\n",
       "       [140.96],\n",
       "       [152.22],\n",
       "       [163.97],\n",
       "       [176.05],\n",
       "       [188.35],\n",
       "       [200.77],\n",
       "       [213.26],\n",
       "       [225.76],\n",
       "       [238.27],\n",
       "       [250.79],\n",
       "       [263.37],\n",
       "       [276.08],\n",
       "       [289.  ],\n",
       "       [302.25],\n",
       "       [315.99],\n",
       "       [330.38],\n",
       "       [345.62],\n",
       "       [361.94],\n",
       "       [379.59],\n",
       "       [398.84],\n",
       "       [420.01],\n",
       "       [443.42],\n",
       "       [469.43],\n",
       "       [498.43],\n",
       "       [530.82],\n",
       "       [567.05],\n",
       "       [607.57],\n",
       "       [652.89],\n",
       "       [703.51]])"
      ]
     },
     "execution_count": 40,
     "metadata": {},
     "output_type": "execute_result"
    }
   ],
   "source": [
    "scaler.inverse_transform(lin_reg_2.predict(poly_reg.fit_transform(X_grid)))"
   ]
  },
  {
   "cell_type": "markdown",
   "metadata": {},
   "source": [
    "# Adicionando nova váriaveis\n",
    "### Realizando a regressão linear para o incremento ou decremento de geração térmica"
   ]
  },
  {
   "cell_type": "code",
   "execution_count": 41,
   "metadata": {},
   "outputs": [
    {
     "data": {
      "text/html": [
       "<div>\n",
       "<style scoped>\n",
       "    .dataframe tbody tr th:only-of-type {\n",
       "        vertical-align: middle;\n",
       "    }\n",
       "\n",
       "    .dataframe tbody tr th {\n",
       "        vertical-align: top;\n",
       "    }\n",
       "\n",
       "    .dataframe thead th {\n",
       "        text-align: right;\n",
       "    }\n",
       "</style>\n",
       "<table border=\"1\" class=\"dataframe\">\n",
       "  <thead>\n",
       "    <tr style=\"text-align: right;\">\n",
       "      <th></th>\n",
       "      <th>Semana Operativa</th>\n",
       "      <th>Ger_Term</th>\n",
       "      <th>cmo</th>\n",
       "      <th>Ger_Term_sem-1</th>\n",
       "      <th>Diff_Ger_Term</th>\n",
       "    </tr>\n",
       "  </thead>\n",
       "  <tbody>\n",
       "    <tr>\n",
       "      <th>1</th>\n",
       "      <td>09/01/2016</td>\n",
       "      <td>1009.05</td>\n",
       "      <td>20.64</td>\n",
       "      <td>937.67</td>\n",
       "      <td>71.38</td>\n",
       "    </tr>\n",
       "    <tr>\n",
       "      <th>2</th>\n",
       "      <td>16/01/2016</td>\n",
       "      <td>840.08</td>\n",
       "      <td>12.60</td>\n",
       "      <td>1009.05</td>\n",
       "      <td>-168.97</td>\n",
       "    </tr>\n",
       "    <tr>\n",
       "      <th>3</th>\n",
       "      <td>23/01/2016</td>\n",
       "      <td>839.19</td>\n",
       "      <td>9.66</td>\n",
       "      <td>840.08</td>\n",
       "      <td>-0.89</td>\n",
       "    </tr>\n",
       "    <tr>\n",
       "      <th>4</th>\n",
       "      <td>30/01/2016</td>\n",
       "      <td>764.10</td>\n",
       "      <td>6.07</td>\n",
       "      <td>839.19</td>\n",
       "      <td>-75.09</td>\n",
       "    </tr>\n",
       "    <tr>\n",
       "      <th>5</th>\n",
       "      <td>06/02/2016</td>\n",
       "      <td>824.12</td>\n",
       "      <td>2.62</td>\n",
       "      <td>764.10</td>\n",
       "      <td>60.02</td>\n",
       "    </tr>\n",
       "  </tbody>\n",
       "</table>\n",
       "</div>"
      ],
      "text/plain": [
       "  Semana Operativa  Ger_Term    cmo  Ger_Term_sem-1  Diff_Ger_Term\n",
       "1       09/01/2016   1009.05  20.64          937.67          71.38\n",
       "2       16/01/2016    840.08  12.60         1009.05        -168.97\n",
       "3       23/01/2016    839.19   9.66          840.08          -0.89\n",
       "4       30/01/2016    764.10   6.07          839.19         -75.09\n",
       "5       06/02/2016    824.12   2.62          764.10          60.02"
      ]
     },
     "execution_count": 41,
     "metadata": {},
     "output_type": "execute_result"
    }
   ],
   "source": [
    "melt = dataset.copy()\n",
    "melt['Ger_Term_sem-1'] = dataset['Ger_Term'].shift()\n",
    "melt['Diff_Ger_Term'] = dataset['Ger_Term'].diff()\n",
    "melt = melt.dropna()\n",
    "melt.head()"
   ]
  },
  {
   "cell_type": "markdown",
   "metadata": {},
   "source": [
    "## Medindo a correlação entre as váriaveis "
   ]
  },
  {
   "cell_type": "code",
   "execution_count": 42,
   "metadata": {},
   "outputs": [
    {
     "data": {
      "image/png": "[encoded data removed]",
      "text/plain": [
       "<Figure size 504x360 with 1 Axes>"
      ]
     },
     "metadata": {
      "needs_background": "light"
     },
     "output_type": "display_data"
    }
   ],
   "source": [
    "corr = melt.corr()\n",
    "plt.figure(figsize=(7,5))\n",
    "plt.imshow(corr, cmap= 'Blues', interpolation='none', aspect= 'auto')\n",
    "plt.colorbar\n",
    "plt.xticks(range(len(corr)), corr.columns, rotation= 'vertical')\n",
    "plt.yticks(range(len(corr)), corr.columns);\n",
    "plt.suptitle('Correlação entre variáveis', fontsize = 15, fontweight = 'bold')\n",
    "plt.grid(False)\n",
    "plt.show()"
   ]
  },
  {
   "cell_type": "code",
   "execution_count": 43,
   "metadata": {},
   "outputs": [
    {
     "data": {
      "text/html": [
       "<div>\n",
       "<style scoped>\n",
       "    .dataframe tbody tr th:only-of-type {\n",
       "        vertical-align: middle;\n",
       "    }\n",
       "\n",
       "    .dataframe tbody tr th {\n",
       "        vertical-align: top;\n",
       "    }\n",
       "\n",
       "    .dataframe thead th {\n",
       "        text-align: right;\n",
       "    }\n",
       "</style>\n",
       "<table border=\"1\" class=\"dataframe\">\n",
       "  <thead>\n",
       "    <tr style=\"text-align: right;\">\n",
       "      <th></th>\n",
       "      <th>index</th>\n",
       "      <th>Semana Operativa</th>\n",
       "      <th>Ger_Term</th>\n",
       "      <th>cmo</th>\n",
       "      <th>Ger_Term_sem-1</th>\n",
       "      <th>Diff_Ger_Term</th>\n",
       "    </tr>\n",
       "  </thead>\n",
       "  <tbody>\n",
       "    <tr>\n",
       "      <th>0</th>\n",
       "      <td>1</td>\n",
       "      <td>09/01/2016</td>\n",
       "      <td>1009.05</td>\n",
       "      <td>20.64</td>\n",
       "      <td>937.67</td>\n",
       "      <td>71.38</td>\n",
       "    </tr>\n",
       "    <tr>\n",
       "      <th>1</th>\n",
       "      <td>2</td>\n",
       "      <td>16/01/2016</td>\n",
       "      <td>840.08</td>\n",
       "      <td>12.60</td>\n",
       "      <td>1009.05</td>\n",
       "      <td>-168.97</td>\n",
       "    </tr>\n",
       "    <tr>\n",
       "      <th>2</th>\n",
       "      <td>3</td>\n",
       "      <td>23/01/2016</td>\n",
       "      <td>839.19</td>\n",
       "      <td>9.66</td>\n",
       "      <td>840.08</td>\n",
       "      <td>-0.89</td>\n",
       "    </tr>\n",
       "    <tr>\n",
       "      <th>3</th>\n",
       "      <td>4</td>\n",
       "      <td>30/01/2016</td>\n",
       "      <td>764.10</td>\n",
       "      <td>6.07</td>\n",
       "      <td>839.19</td>\n",
       "      <td>-75.09</td>\n",
       "    </tr>\n",
       "    <tr>\n",
       "      <th>4</th>\n",
       "      <td>5</td>\n",
       "      <td>06/02/2016</td>\n",
       "      <td>824.12</td>\n",
       "      <td>2.62</td>\n",
       "      <td>764.10</td>\n",
       "      <td>60.02</td>\n",
       "    </tr>\n",
       "  </tbody>\n",
       "</table>\n",
       "</div>"
      ],
      "text/plain": [
       "   index Semana Operativa  Ger_Term    cmo  Ger_Term_sem-1  Diff_Ger_Term\n",
       "0      1       09/01/2016   1009.05  20.64          937.67          71.38\n",
       "1      2       16/01/2016    840.08  12.60         1009.05        -168.97\n",
       "2      3       23/01/2016    839.19   9.66          840.08          -0.89\n",
       "3      4       30/01/2016    764.10   6.07          839.19         -75.09\n",
       "4      5       06/02/2016    824.12   2.62          764.10          60.02"
      ]
     },
     "execution_count": 43,
     "metadata": {},
     "output_type": "execute_result"
    }
   ],
   "source": [
    "melt.reset_index(inplace = True)\n",
    "melt.set_index('index')\n",
    "melt.head()"
   ]
  },
  {
   "cell_type": "markdown",
   "metadata": {},
   "source": [
    "### A seguir usamos a função iterrows para percorrer as colunas do dataframe e preencher os valores zerados pela média do valores anterior e posterior"
   ]
  },
  {
   "cell_type": "code",
   "execution_count": 44,
   "metadata": {},
   "outputs": [],
   "source": [
    "import numpy as np\n",
    "for index, row in melt.iterrows():\n",
    "    \n",
    "     if index > 1:\n",
    "        if pd.isnull(row['Diff_Ger_Term']):\n",
    "            melt.loc[index, 'Diff_Ger_Term'] = (melt.loc[index-1,'Diff_Ger_Term']+melt.loc[index-2,  'Diff_Ger_Term'])/2\n",
    "        else:\n",
    "\n",
    "             if pd.isnull(row['Diff_Ger_Term']):\n",
    "                melt.loc[index, 'Diff_Ger_Term'] = (melt.loc[index+2,'Diff_Ger_Term']+melt.loc[index+1,  'Diff_Ger_Term'])/2    "
   ]
  },
  {
   "cell_type": "code",
   "execution_count": 45,
   "metadata": {},
   "outputs": [],
   "source": [
    "a = melt.iloc[:, 4:5].values\n",
    "b = melt.iloc[:, 2:3].values"
   ]
  },
  {
   "cell_type": "code",
   "execution_count": 46,
   "metadata": {},
   "outputs": [],
   "source": [
    "X_train_1, X_test_1, y_train_1, y_test_1 = train_test_split(a, b, test_size = 0.2, random_state = 0)"
   ]
  },
  {
   "cell_type": "code",
   "execution_count": 47,
   "metadata": {},
   "outputs": [
    {
     "data": {
      "text/plain": [
       "LinearRegression()"
      ]
     },
     "execution_count": 47,
     "metadata": {},
     "output_type": "execute_result"
    }
   ],
   "source": [
    "from sklearn.linear_model import LinearRegression\n",
    "regressor = LinearRegression()\n",
    "regressor.fit(X_train_1, y_train_1)"
   ]
  },
  {
   "cell_type": "code",
   "execution_count": 48,
   "metadata": {},
   "outputs": [
    {
     "name": "stdout",
     "output_type": "stream",
     "text": [
      "[[ 1.17e+00  6.91e-01]\n",
      " [-7.66e-01 -2.16e-01]\n",
      " [ 4.47e-02  1.19e+00]\n",
      " [-3.37e-01 -8.02e-01]\n",
      " [-7.50e-01 -1.15e+00]\n",
      " [-8.83e-01 -3.63e-01]\n",
      " [-1.09e-01 -2.89e-01]\n",
      " [-4.11e-01 -5.38e-01]\n",
      " [-3.76e-01 -9.63e-01]\n",
      " [-3.74e-01 -1.14e+00]\n",
      " [ 1.66e-01  2.67e+00]\n",
      " [ 1.26e+00  2.00e+00]\n",
      " [-9.14e-01 -2.90e-01]\n",
      " [ 7.95e-01  1.64e-01]\n",
      " [-1.55e-01  1.87e-01]\n",
      " [-5.32e-01 -6.93e-01]\n",
      " [-4.71e-01 -1.59e-02]\n",
      " [-2.98e-01 -2.28e-01]\n",
      " [ 1.59e+00  1.85e+00]\n",
      " [-6.28e-02 -1.29e-01]\n",
      " [-4.29e-01 -1.15e+00]\n",
      " [ 2.74e-01  1.87e+00]\n",
      " [-6.75e-01 -6.02e-01]\n",
      " [-3.67e-01 -6.35e-01]\n",
      " [ 4.84e-01 -4.85e-02]\n",
      " [-2.44e-01 -7.49e-01]\n",
      " [-6.24e-01 -1.15e+00]\n",
      " [-5.03e-01 -6.28e-01]\n",
      " [-2.66e-01 -7.35e-02]\n",
      " [-8.06e-01 -1.15e+00]\n",
      " [ 1.42e-01 -1.15e+00]\n",
      " [-7.97e-01 -4.45e-01]\n",
      " [ 8.55e-01 -1.62e-03]\n",
      " [-5.52e-01 -1.54e-01]\n",
      " [ 8.02e-01 -2.77e-02]\n",
      " [-9.69e-01 -6.66e-01]\n",
      " [ 1.28e+00  1.42e+00]\n",
      " [ 4.34e-01  2.19e-01]\n",
      " [-5.41e-01 -8.80e-01]\n",
      " [-3.20e-01 -3.97e-01]\n",
      " [ 6.43e-01  3.97e-01]\n",
      " [-7.05e-01 -4.22e-01]\n",
      " [ 3.41e-01 -5.08e-01]\n",
      " [-4.50e-01  1.43e-01]\n",
      " [ 3.93e-01  2.87e-01]\n",
      " [-3.05e-01 -8.81e-01]\n",
      " [ 4.52e-01  1.61e-01]\n",
      " [-1.17e+00 -4.53e-01]\n",
      " [ 3.22e-01  4.17e-02]\n",
      " [-8.42e-01 -7.42e-01]\n",
      " [ 1.21e-01  4.68e-01]\n",
      " [ 2.48e-01 -1.14e+00]\n",
      " [ 1.77e-01 -9.50e-01]\n",
      " [ 5.04e-01  6.60e-01]]\n"
     ]
    }
   ],
   "source": [
    "y_pred_1 = regressor.predict(X_test_1)\n",
    "np.set_printoptions(precision=2)\n",
    "print(np.concatenate((y_pred.reshape(len(y_pred),1), y_test.reshape(len(y_test),1)),1))"
   ]
  },
  {
   "cell_type": "code",
   "execution_count": 49,
   "metadata": {},
   "outputs": [],
   "source": [
    "y_pred_1 = y_pred_1.reshape(len(y_pred_1),1)"
   ]
  },
  {
   "cell_type": "code",
   "execution_count": 50,
   "metadata": {},
   "outputs": [
    {
     "name": "stdout",
     "output_type": "stream",
     "text": [
      "Mean Error =  97.50771\n"
     ]
    }
   ],
   "source": [
    "p_1 = y_pred_1\n",
    "error = rmse(y_test_1, p_1) \n",
    "print('Mean Error = % .5f' % np.mean(error))"
   ]
  },
  {
   "cell_type": "code",
   "execution_count": 51,
   "metadata": {},
   "outputs": [
    {
     "name": "stdout",
     "output_type": "stream",
     "text": [
      "Mean Error =  0.10761\n"
     ]
    }
   ],
   "source": [
    "erro = (np.abs((y_test_1 - p_1)/p_1))\n",
    "print('Mean Error = % .5f' % np.mean(erro))"
   ]
  },
  {
   "cell_type": "markdown",
   "metadata": {},
   "source": [
    "## Modelos de Regressão / Multiplas Variáveis"
   ]
  },
  {
   "cell_type": "markdown",
   "metadata": {},
   "source": [
    "## Os modelos a seguir tentam prever o Custo Marginal da Operação (CMO) a partir dos dados de geração termoelétrica da região sudeste/ Centro - Oeste e da diferença entre esses dados (incremento ou decremento da geração)"
   ]
  },
  {
   "cell_type": "markdown",
   "metadata": {},
   "source": [
    "### Random Forest Regressor"
   ]
  },
  {
   "cell_type": "code",
   "execution_count": 52,
   "metadata": {},
   "outputs": [
    {
     "name": "stdout",
     "output_type": "stream",
     "text": [
      "Mean Error = 90.85494\n"
     ]
    }
   ],
   "source": [
    "from sklearn.ensemble import RandomForestRegressor\n",
    "mean_error = []\n",
    "for i in range(240,269):\n",
    "    train = melt[melt['index'].values <= i]\n",
    "    val = melt[melt['index'].values >= i]\n",
    "    \n",
    "    xtr, xts = train.drop(['Semana Operativa', 'cmo'], axis=1), val.drop(['Semana Operativa', 'cmo'], axis=1)\n",
    "    ytr, yts = train['cmo'].values, val['cmo'].values\n",
    "    \n",
    "    mdl = RandomForestRegressor(n_estimators=1000, n_jobs=-1, random_state=0)\n",
    "    mdl.fit(xtr, np.log1p(ytr))\n",
    "    \n",
    "    p = np.expm1(mdl.predict(xts))\n",
    "    sem = melt[melt['index'] >= i]['Semana Operativa'].values\n",
    "    error = rmse(yts, p)\n",
    "    #print('semana %d - Error %.5f' % (index, error))\n",
    "    mean_error.append(error)\n",
    "print('Mean Error = %.5f' % np.mean(mean_error))\n"
   ]
  },
  {
   "cell_type": "code",
   "execution_count": 53,
   "metadata": {},
   "outputs": [
    {
     "data": {
      "text/plain": [
       "(29, 2)"
      ]
     },
     "execution_count": 53,
     "metadata": {},
     "output_type": "execute_result"
    }
   ],
   "source": [
    "sem = melt['Semana Operativa'][239:269].values\n",
    "mean_error = np.array(mean_error)\n",
    "mean_error.shape\n",
    "data = np.concatenate((sem.reshape(len(sem),1), mean_error.reshape(len(mean_error),1)),1)\n",
    "data.shape"
   ]
  },
  {
   "cell_type": "code",
   "execution_count": 54,
   "metadata": {},
   "outputs": [
    {
     "data": {
      "text/html": [
       "<div>\n",
       "<style scoped>\n",
       "    .dataframe tbody tr th:only-of-type {\n",
       "        vertical-align: middle;\n",
       "    }\n",
       "\n",
       "    .dataframe tbody tr th {\n",
       "        vertical-align: top;\n",
       "    }\n",
       "\n",
       "    .dataframe thead th {\n",
       "        text-align: right;\n",
       "    }\n",
       "</style>\n",
       "<table border=\"1\" class=\"dataframe\">\n",
       "  <thead>\n",
       "    <tr style=\"text-align: right;\">\n",
       "      <th></th>\n",
       "      <th>Semana</th>\n",
       "      <th>Erro</th>\n",
       "    </tr>\n",
       "  </thead>\n",
       "  <tbody>\n",
       "    <tr>\n",
       "      <th>24</th>\n",
       "      <td>23/01/2021</td>\n",
       "      <td>26.0657</td>\n",
       "    </tr>\n",
       "    <tr>\n",
       "      <th>25</th>\n",
       "      <td>30/01/2021</td>\n",
       "      <td>24.494</td>\n",
       "    </tr>\n",
       "    <tr>\n",
       "      <th>26</th>\n",
       "      <td>06/02/2021</td>\n",
       "      <td>14.7309</td>\n",
       "    </tr>\n",
       "    <tr>\n",
       "      <th>27</th>\n",
       "      <td>13/02/2021</td>\n",
       "      <td>16.9919</td>\n",
       "    </tr>\n",
       "    <tr>\n",
       "      <th>28</th>\n",
       "      <td>20/02/2021</td>\n",
       "      <td>7.60288</td>\n",
       "    </tr>\n",
       "  </tbody>\n",
       "</table>\n",
       "</div>"
      ],
      "text/plain": [
       "        Semana     Erro\n",
       "24  23/01/2021  26.0657\n",
       "25  30/01/2021   24.494\n",
       "26  06/02/2021  14.7309\n",
       "27  13/02/2021  16.9919\n",
       "28  20/02/2021  7.60288"
      ]
     },
     "execution_count": 54,
     "metadata": {},
     "output_type": "execute_result"
    }
   ],
   "source": [
    "data = pd.DataFrame(np.array(data).reshape(29,2),columns =[\"Semana\",\"Erro\"])\n",
    "data.tail()"
   ]
  },
  {
   "cell_type": "markdown",
   "metadata": {},
   "source": [
    "### Pode-se verificar através da análise do gráfico a seguir que o erro cai muito a partir da semana de 12/12/2020"
   ]
  },
  {
   "cell_type": "code",
   "execution_count": 55,
   "metadata": {},
   "outputs": [
    {
     "data": {
      "text/plain": [
       "<Figure size 1080x864 with 0 Axes>"
      ]
     },
     "metadata": {},
     "output_type": "display_data"
    },
    {
     "data": {
      "image/png": "[encoded data removed]",
      "text/plain": [
       "<Figure size 432x288 with 1 Axes>"
      ]
     },
     "metadata": {
      "needs_background": "light"
     },
     "output_type": "display_data"
    }
   ],
   "source": [
    "plt.figure(figsize = (15,12))\n",
    "data.plot(title = 'Variação do Erro no Tempo - RMSE - RandomForestRegressor', color = 'blue')\n",
    "plt.ylabel('Erro - Diferença entre  previsto e o real')\n",
    "plt.xlabel('Semana')\n",
    "plt.show()"
   ]
  },
  {
   "cell_type": "markdown",
   "metadata": {},
   "source": [
    "### Regressão Linear Múltipla"
   ]
  },
  {
   "cell_type": "code",
   "execution_count": 56,
   "metadata": {},
   "outputs": [
    {
     "name": "stdout",
     "output_type": "stream",
     "text": [
      "semana 240 - Error 327.56735\n",
      "semana 241 - Error 330.51090\n",
      "semana 242 - Error 334.47270\n",
      "semana 243 - Error 339.29903\n",
      "semana 244 - Error 343.74258\n",
      "semana 245 - Error 349.02054\n",
      "semana 246 - Error 353.89022\n",
      "semana 247 - Error 393.89830\n",
      "semana 248 - Error 518.54929\n",
      "semana 249 - Error 377.70094\n",
      "semana 250 - Error 372.01698\n",
      "semana 251 - Error 398.48279\n",
      "semana 252 - Error 347.10732\n",
      "semana 253 - Error 286.73089\n",
      "semana 254 - Error 244.48942\n",
      "semana 255 - Error 250.02926\n",
      "semana 256 - Error 224.50615\n",
      "semana 257 - Error 213.99022\n",
      "semana 258 - Error 219.92911\n",
      "semana 259 - Error 149.48425\n",
      "semana 260 - Error 111.97206\n",
      "semana 261 - Error 91.81689\n",
      "semana 262 - Error 80.41859\n",
      "semana 263 - Error 61.87239\n",
      "semana 264 - Error 39.24848\n",
      "semana 265 - Error 15.26660\n",
      "semana 266 - Error 16.37361\n",
      "semana 267 - Error 16.77404\n",
      "semana 268 - Error 152.88031\n",
      "Mean Error = 240.07039\n"
     ]
    }
   ],
   "source": [
    "mean_error = []\n",
    "for index in range(240,269):\n",
    "    train = melt[melt['index'] < index]\n",
    "    val = melt[melt['index'] >= index]\n",
    "    \n",
    "    xtr, xts = train.drop(['Semana Operativa', 'cmo'], axis=1), val.drop(['Semana Operativa', 'cmo'], axis=1)\n",
    "    ytr, yts = train['cmo'].values, val['cmo'].values\n",
    "    \n",
    "    mdl = LinearRegression()\n",
    "    \n",
    "    mdl.fit(xtr, np.log1p(ytr))\n",
    "    \n",
    "    p = np.expm1(mdl.predict(xts))\n",
    "    \n",
    "    error = rmse(yts, p)\n",
    "    print('semana %d - Error %.5f' % (index, error))\n",
    "    mean_error.append(error)\n",
    "print('Mean Error = %.5f' % np.mean(mean_error))\n"
   ]
  }
 ],
 "metadata": {
  "kernelspec": {
   "display_name": "Python 3",
   "language": "python",
   "name": "python3"
  },
  "language_info": {
   "codemirror_mode": {
    "name": "ipython",
    "version": 3
   },
   "file_extension": ".py",
   "mimetype": "text/x-python",
   "name": "python",
   "nbconvert_exporter": "python",
   "pygments_lexer": "ipython3",
   "version": "3.8.3"
  }
 },
 "nbformat": 4,
 "nbformat_minor": 2
}
